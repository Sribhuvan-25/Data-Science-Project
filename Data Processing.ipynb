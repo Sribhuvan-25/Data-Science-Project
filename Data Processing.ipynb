{
 "cells": [
  {
   "cell_type": "code",
   "execution_count": 15,
   "id": "a17806f8",
   "metadata": {},
   "outputs": [
    {
     "name": "stdout",
     "output_type": "stream",
     "text": [
      "<class 'pandas.core.frame.DataFrame'>\n",
      "RangeIndex: 905 entries, 0 to 904\n",
      "Data columns (total 24 columns):\n",
      " #   Column                                 Non-Null Count  Dtype  \n",
      "---  ------                                 --------------  -----  \n",
      " 0   Video Link                             905 non-null    object \n",
      " 1   Video Views                            905 non-null    object \n",
      " 2   Video Title                            905 non-null    object \n",
      " 3   Channel URL                            905 non-null    object \n",
      " 4   Creator Name                           894 non-null    object \n",
      " 5   Creator Gender                         591 non-null    object \n",
      " 6   Total Channel Subcribers               905 non-null    int64  \n",
      " 7   Total Chanel Views                     905 non-null    object \n",
      " 8   Duration of Video                      905 non-null    object \n",
      " 9   Duration in Seconds                    905 non-null    object \n",
      " 10  Date of Video Upload                   905 non-null    object \n",
      " 11  No of Likes                            904 non-null    float64\n",
      " 12  Language of the Video                  884 non-null    object \n",
      " 13  Subtitle                               904 non-null    object \n",
      " 14  Video Description                      905 non-null    object \n",
      " 15  Hashtags                               905 non-null    int64  \n",
      " 16  No of Comments                         905 non-null    object \n",
      " 17  Date of the Last Comment               881 non-null    object \n",
      " 18  Maximum Quality of the Video           905 non-null    int64  \n",
      " 19  No of Videos the Channel               905 non-null    int64  \n",
      " 20  No of Playlist                         896 non-null    float64\n",
      " 21  Premiered or Not                       905 non-null    object \n",
      " 22  Community Engagement (Posts per week)  905 non-null    int64  \n",
      " 23  Intern Who Collected the Data          905 non-null    object \n",
      "dtypes: float64(2), int64(5), object(17)\n",
      "memory usage: 169.8+ KB\n"
     ]
    }
   ],
   "source": [
    "import pandas as pd\n",
    "import numpy as np\n",
    "import matplotlib.pyplot as plt\n",
    "\n",
    "df = pd.read_csv('data.csv')\n",
    "\n",
    "df.info()"
   ]
  },
  {
   "cell_type": "code",
   "execution_count": 16,
   "id": "1438dcfd",
   "metadata": {},
   "outputs": [],
   "source": [
    "df = df.drop(['Video Link','Channel URL','Intern Who Collected the Data'], axis=1)"
   ]
  },
  {
   "cell_type": "code",
   "execution_count": null,
   "id": "9cb26de2",
   "metadata": {},
   "outputs": [],
   "source": []
  }
 ],
 "metadata": {
  "kernelspec": {
   "display_name": "Python 3 (ipykernel)",
   "language": "python",
   "name": "python3"
  },
  "language_info": {
   "codemirror_mode": {
    "name": "ipython",
    "version": 3
   },
   "file_extension": ".py",
   "mimetype": "text/x-python",
   "name": "python",
   "nbconvert_exporter": "python",
   "pygments_lexer": "ipython3",
   "version": "3.9.7"
  }
 },
 "nbformat": 4,
 "nbformat_minor": 5
}
