{
 "cells": [
  {
   "cell_type": "code",
   "execution_count": 1,
   "id": "a17806f8",
   "metadata": {},
   "outputs": [],
   "source": [
    "import pandas as pd\n",
    "import numpy as np\n",
    "import matplotlib.pyplot as plt\n",
    "\n",
    "df = pd.read_csv('data.csv')\n",
    "\n",
    "# df.info()"
   ]
  },
  {
   "cell_type": "code",
   "execution_count": 2,
   "id": "1438dcfd",
   "metadata": {},
   "outputs": [],
   "source": [
    "df_copy = df.copy()\n",
    "df_copy = df.drop(['Video Title','Video Link','Channel URL','Date of Video Upload','Date of the Last Comment',\n",
    "                   'No of Playlist','Subtitle','Creator Name','No of Comments','Duration of Video','Intern Who Collected the Data'], axis=1)"
   ]
  },
  {
   "cell_type": "code",
   "execution_count": 3,
   "id": "a8a53ab7",
   "metadata": {},
   "outputs": [
    {
     "data": {
      "text/plain": [
       "Video Views                                0\n",
       "Creator Gender                           314\n",
       "Total Channel Subcribers                   0\n",
       "Total Chanel Views                         0\n",
       "Duration in Seconds                        0\n",
       "No of Likes                                1\n",
       "Language of the Video                     21\n",
       "Video Description                          0\n",
       "Hashtags                                   0\n",
       "Maximum Quality of the Video               0\n",
       "No of Videos the Channel                   0\n",
       "Premiered or Not                           0\n",
       "Community Engagement (Posts per week)      0\n",
       "dtype: int64"
      ]
     },
     "execution_count": 3,
     "metadata": {},
     "output_type": "execute_result"
    }
   ],
   "source": [
    "df_copy.isnull().sum()"
   ]
  },
  {
   "cell_type": "markdown",
   "id": "849849ac",
   "metadata": {},
   "source": [
    "### Transforming Data Types of columns"
   ]
  },
  {
   "cell_type": "code",
   "execution_count": 4,
   "id": "7fb18e2a",
   "metadata": {},
   "outputs": [],
   "source": [
    "df_copy = df_copy.replace(',','', regex=True)\n",
    "df_copy = df_copy.replace('\\..*', '', regex=True)"
   ]
  },
  {
   "cell_type": "code",
   "execution_count": 5,
   "id": "deb879d7",
   "metadata": {},
   "outputs": [],
   "source": [
    "df_copy['Video Views'] = pd.to_numeric(df_copy['Video Views'])\n",
    "df_copy['Total Channel Subcribers'] = df_copy['Total Channel Subcribers'].astype('int')\n",
    "df_copy['Total Chanel Views'] = pd.to_numeric(df_copy['Total Chanel Views']).astype('int')\n",
    "df_copy['Duration in Seconds'] = df_copy['Duration in Seconds'].astype('int')\n",
    "df_copy['No of Likes'] = df_copy['No of Likes'].astype('Int64')"
   ]
  },
  {
   "cell_type": "markdown",
   "id": "a77a9d4b",
   "metadata": {},
   "source": [
    "## Data Quality Report"
   ]
  },
  {
   "cell_type": "code",
   "execution_count": 6,
   "id": "338f9f1e",
   "metadata": {},
   "outputs": [],
   "source": [
    "continuous_features = ['Video Views', 'Total Channel Subcribers', 'Total Chanel Views', 'Duration in Seconds', \n",
    "                      'No of Likes', 'No of Videos the Channel', 'Hashtags', 'Community Engagement (Posts per week)']\n",
    "\n",
    "categorical_features = ['Creator Gender', 'Language of the Video', 'Video Description',  \n",
    "                        'Maximum Quality of the Video','Premiered or Not']"
   ]
  },
  {
   "cell_type": "code",
   "execution_count": 7,
   "id": "b39df9b6",
   "metadata": {},
   "outputs": [],
   "source": [
    "# Continuous Feartures\n",
    "def continousFeatureReport(continousFeatures, df):\n",
    "    headers = [\"Count\", \"% of Missing\", \"Card\", \"Min\", \"Q1\", \"Median\", \"Q3\", \"Max\", \"Mean\", \"Std.Dev\"]\n",
    "    \n",
    "    contDf = pd.DataFrame(index=continousFeatures, columns=headers)\n",
    "    contDf.index.name = \"Feature\"\n",
    "    cols = df[continousFeatures]\n",
    "     \n",
    "    count = cols.count()\n",
    "    contDf[headers[0]] = count\n",
    "    \n",
    "    missingPercents = ['']*len(continousFeatures)\n",
    "    for col in cols:\n",
    "        index = continousFeatures.index(col)\n",
    "        missingValues = df[col].isnull().sum()\n",
    "        percent = (missingValues/count[index])*100\n",
    "        missingPercents[index] = percent\n",
    "\n",
    "    contDf[headers[1]] = missingValues\n",
    "    \n",
    "    contDf[headers[2]] = cols.nunique()\n",
    "    \n",
    "    contDf[headers[3]] = cols.min()\n",
    "    \n",
    "    contDf[headers[4]] = cols.quantile(0.25)\n",
    "    \n",
    "    contDf[headers[5]] = cols.median()\n",
    "    \n",
    "    contDf[headers[6]] = cols.quantile(0.75)\n",
    "    \n",
    "    contDf[headers[7]] = cols.max()\n",
    "    \n",
    "    contDf[headers[8]] = round(cols.mean(),2)\n",
    "    \n",
    "    contDf[headers[9]] = round(cols.std(),2)\n",
    " \n",
    "    return contDf\n",
    "\n",
    "df_cont = continousFeatureReport(continuous_features, df_copy)\n",
    "\n",
    "df_cont.to_csv('Data_Quality_Report_For_Continuous_Features.csv', index=True)\n",
    "\n",
    "df_cont = pd.read_csv('Data_Quality_Report_For_Continuous_Features.csv', index_col = 'Feature')"
   ]
  },
  {
   "cell_type": "code",
   "execution_count": 8,
   "id": "7e3b69f9",
   "metadata": {},
   "outputs": [
    {
     "data": {
      "text/html": [
       "<div>\n",
       "<style scoped>\n",
       "    .dataframe tbody tr th:only-of-type {\n",
       "        vertical-align: middle;\n",
       "    }\n",
       "\n",
       "    .dataframe tbody tr th {\n",
       "        vertical-align: top;\n",
       "    }\n",
       "\n",
       "    .dataframe thead th {\n",
       "        text-align: right;\n",
       "    }\n",
       "</style>\n",
       "<table border=\"1\" class=\"dataframe\">\n",
       "  <thead>\n",
       "    <tr style=\"text-align: right;\">\n",
       "      <th></th>\n",
       "      <th>Count</th>\n",
       "      <th>% of Missing</th>\n",
       "      <th>Card</th>\n",
       "      <th>Mode</th>\n",
       "      <th>Mode Freq</th>\n",
       "      <th>Mode %</th>\n",
       "      <th>2nd Mode</th>\n",
       "      <th>2nd Mode Freq</th>\n",
       "      <th>2nd Mode %</th>\n",
       "    </tr>\n",
       "    <tr>\n",
       "      <th>Feature</th>\n",
       "      <th></th>\n",
       "      <th></th>\n",
       "      <th></th>\n",
       "      <th></th>\n",
       "      <th></th>\n",
       "      <th></th>\n",
       "      <th></th>\n",
       "      <th></th>\n",
       "      <th></th>\n",
       "    </tr>\n",
       "  </thead>\n",
       "  <tbody>\n",
       "    <tr>\n",
       "      <th>Creator Gender</th>\n",
       "      <td>591</td>\n",
       "      <td>53.130288</td>\n",
       "      <td>3</td>\n",
       "      <td>Male</td>\n",
       "      <td>494</td>\n",
       "      <td>83.59</td>\n",
       "      <td>Female</td>\n",
       "      <td>78</td>\n",
       "      <td>13.20</td>\n",
       "    </tr>\n",
       "    <tr>\n",
       "      <th>Language of the Video</th>\n",
       "      <td>884</td>\n",
       "      <td>2.375566</td>\n",
       "      <td>19</td>\n",
       "      <td>English</td>\n",
       "      <td>542</td>\n",
       "      <td>61.31</td>\n",
       "      <td>Hindi</td>\n",
       "      <td>183</td>\n",
       "      <td>20.70</td>\n",
       "    </tr>\n",
       "    <tr>\n",
       "      <th>Video Description</th>\n",
       "      <td>905</td>\n",
       "      <td>0.000000</td>\n",
       "      <td>3</td>\n",
       "      <td>Yes</td>\n",
       "      <td>858</td>\n",
       "      <td>94.81</td>\n",
       "      <td>No</td>\n",
       "      <td>46</td>\n",
       "      <td>5.08</td>\n",
       "    </tr>\n",
       "    <tr>\n",
       "      <th>Maximum Quality of the Video</th>\n",
       "      <td>905</td>\n",
       "      <td>0.000000</td>\n",
       "      <td>7</td>\n",
       "      <td>1080</td>\n",
       "      <td>690</td>\n",
       "      <td>76.24</td>\n",
       "      <td>2160</td>\n",
       "      <td>141</td>\n",
       "      <td>15.58</td>\n",
       "    </tr>\n",
       "    <tr>\n",
       "      <th>Premiered or Not</th>\n",
       "      <td>905</td>\n",
       "      <td>0.000000</td>\n",
       "      <td>3</td>\n",
       "      <td>No</td>\n",
       "      <td>804</td>\n",
       "      <td>88.84</td>\n",
       "      <td>Yes</td>\n",
       "      <td>100</td>\n",
       "      <td>11.05</td>\n",
       "    </tr>\n",
       "  </tbody>\n",
       "</table>\n",
       "</div>"
      ],
      "text/plain": [
       "                              Count  % of Missing  Card     Mode  Mode Freq  \\\n",
       "Feature                                                                       \n",
       "Creator Gender                  591     53.130288     3     Male        494   \n",
       "Language of the Video           884      2.375566    19  English        542   \n",
       "Video Description               905      0.000000     3      Yes        858   \n",
       "Maximum Quality of the Video    905      0.000000     7     1080        690   \n",
       "Premiered or Not                905      0.000000     3       No        804   \n",
       "\n",
       "                              Mode % 2nd Mode  2nd Mode Freq  2nd Mode %  \n",
       "Feature                                                                   \n",
       "Creator Gender                 83.59   Female             78       13.20  \n",
       "Language of the Video          61.31    Hindi            183       20.70  \n",
       "Video Description              94.81       No             46        5.08  \n",
       "Maximum Quality of the Video   76.24     2160            141       15.58  \n",
       "Premiered or Not               88.84      Yes            100       11.05  "
      ]
     },
     "execution_count": 8,
     "metadata": {},
     "output_type": "execute_result"
    }
   ],
   "source": [
    "# Categorical Features\n",
    "def categoricalFeatureReport(categoricalFeatures, dataFrame):\n",
    "    header = [\"Count\", \"% of Missing\", \"Card\", \"Mode\", \"Mode Freq\", \"Mode %\", \"2nd Mode\", \"2nd Mode Freq\", \"2nd Mode %\"]\n",
    "    catDf = pd.DataFrame(index = categoricalFeatures, columns = header)\n",
    "    catDf.index.name = \"Feature\"\n",
    "    cols = dataFrame[categoricalFeatures]\n",
    "    \n",
    "    count = cols.count()\n",
    "    catDf[header[0]] = count\n",
    "    catDf[header[2]] = cols.nunique()\n",
    "#     catDf[header[10]] = ''\n",
    "    \n",
    "    length = len(categoricalFeatures)\n",
    "    missingPercents = ['']*length\n",
    "    modes = ['']*length\n",
    "    modeFreq = ['']*length\n",
    "    modePercents = ['']*length\n",
    "    modes2 = ['']*length\n",
    "    mode2Freq = ['']*length\n",
    "    mode2Percent = ['']*length\n",
    "    \n",
    "    for col in cols:\n",
    "        vals = cols[col].value_counts()\n",
    "        index = categoricalFeatures.index(col)\n",
    "        \n",
    "        missingValues = df[col].isnull().sum()\n",
    "        percent = (missingValues/count[index])*100\n",
    "        missingPercents[index] = percent\n",
    "    \n",
    "        modes[index] = vals.index[0]\n",
    "        modes2[index] = vals.index[1]\n",
    "        \n",
    "        modeFreq[index] = vals.loc[vals.index[0]]\n",
    "        mode2Freq[index] = vals.loc[vals.index[1]]\n",
    "        \n",
    "        modePercents[index] = round((vals.loc[vals.index[0]]/count[index])*100, 2)\n",
    "        mode2Percent[index] = round((vals.loc[vals.index[1]]/count[index])*100, 2)\n",
    "    \n",
    "    catDf[header[1]] = missingPercents\n",
    "    catDf[header[3]] = modes\n",
    "    catDf[header[4]] = modeFreq\n",
    "    catDf[header[5]] = modePercents\n",
    "    catDf[header[6]] = modes2\n",
    "    catDf[header[7]] = mode2Freq\n",
    "    catDf[header[8]] = mode2Percent\n",
    "    \n",
    "    \n",
    "    return catDf\n",
    "\n",
    "df_cat = categoricalFeatureReport(categorical_features, df_copy)\n",
    "df_cat.to_csv('Data_Quality_Report_For_Categorical_Features.csv', index=True)\n",
    "\n",
    "df_cat = pd.read_csv('Data_Quality_Report_For_Categorical_Features.csv', index_col = 'Feature')\n",
    "df_cat"
   ]
  },
  {
   "cell_type": "markdown",
   "id": "1b2fe252",
   "metadata": {},
   "source": [
    "## Plots"
   ]
  },
  {
   "cell_type": "code",
   "execution_count": 9,
   "id": "d87e8b4b",
   "metadata": {},
   "outputs": [
    {
     "data": {
      "text/plain": [
       "<AxesSubplot:>"
      ]
     },
     "execution_count": 9,
     "metadata": {},
     "output_type": "execute_result"
    },
    {
     "data": {
      "image/png": "[encoded data removed]",
      "text/plain": [
       "<Figure size 432x288 with 1 Axes>"
      ]
     },
     "metadata": {
      "needs_background": "light"
     },
     "output_type": "display_data"
    }
   ],
   "source": [
    "df_copy['Creator Gender'] = df_copy['Creator Gender'].replace(np.nan, 'Org')\n",
    "df_copy['Creator Gender'] = df_copy['Creator Gender'].replace('Company', 'Org')\n",
    "df_copy['Creator Gender'].value_counts(dropna = False).plot(kind = 'bar', color = 'blue')"
   ]
  },
  {
   "cell_type": "code",
   "execution_count": 10,
   "id": "0aaa7db8",
   "metadata": {},
   "outputs": [
    {
     "data": {
      "text/plain": [
       "<AxesSubplot:>"
      ]
     },
     "execution_count": 10,
     "metadata": {},
     "output_type": "execute_result"
    },
    {
     "data": {
      "image/png": "[encoded data removed]",
      "text/plain": [
       "<Figure size 432x288 with 1 Axes>"
      ]
     },
     "metadata": {
      "needs_background": "light"
     },
     "output_type": "display_data"
    }
   ],
   "source": [
    "df_copy['Language of the Video'].value_counts(dropna = False).plot(kind = 'bar', color = 'blue')"
   ]
  },
  {
   "cell_type": "code",
   "execution_count": 11,
   "id": "e9006a9d",
   "metadata": {},
   "outputs": [
    {
     "data": {
      "text/plain": [
       "<AxesSubplot:>"
      ]
     },
     "execution_count": 11,
     "metadata": {},
     "output_type": "execute_result"
    },
    {
     "data": {
      "image/png": "[encoded data removed]",
      "text/plain": [
       "<Figure size 432x288 with 1 Axes>"
      ]
     },
     "metadata": {
      "needs_background": "light"
     },
     "output_type": "display_data"
    }
   ],
   "source": [
    "df_copy['Video Description'] = df_copy['Video Description'].replace('NO', 'No')\n",
    "df_copy['Video Description'].value_counts(dropna = False).plot(kind = 'bar', color = 'blue')"
   ]
  },
  {
   "cell_type": "code",
   "execution_count": 12,
   "id": "bfce5653",
   "metadata": {},
   "outputs": [
    {
     "data": {
      "text/plain": [
       "<AxesSubplot:>"
      ]
     },
     "execution_count": 12,
     "metadata": {},
     "output_type": "execute_result"
    },
    {
     "data": {
      "image/png": "[encoded data removed]",
      "text/plain": [
       "<Figure size 432x288 with 1 Axes>"
      ]
     },
     "metadata": {
      "needs_background": "light"
     },
     "output_type": "display_data"
    }
   ],
   "source": [
    "df_copy['Maximum Quality of the Video'].value_counts(dropna = False).plot(kind = 'bar', color = 'blue')"
   ]
  },
  {
   "cell_type": "code",
   "execution_count": 13,
   "id": "9fde1b41",
   "metadata": {},
   "outputs": [
    {
     "data": {
      "text/plain": [
       "<AxesSubplot:>"
      ]
     },
     "execution_count": 13,
     "metadata": {},
     "output_type": "execute_result"
    },
    {
     "data": {
      "image/png": "[encoded data removed]",
      "text/plain": [
       "<Figure size 432x288 with 1 Axes>"
      ]
     },
     "metadata": {
      "needs_background": "light"
     },
     "output_type": "display_data"
    }
   ],
   "source": [
    "df_copy['Premiered or Not'] = df_copy['Premiered or Not'].replace('yes', 'Yes')\n",
    "df_copy['Premiered or Not'].value_counts(dropna = False).plot(kind = 'bar', color = 'blue')"
   ]
  },
  {
   "cell_type": "code",
   "execution_count": 14,
   "id": "e5eba942",
   "metadata": {},
   "outputs": [
    {
     "data": {
      "image/png": "[encoded data removed]",
      "text/plain": [
       "<Figure size 432x288 with 1 Axes>"
      ]
     },
     "metadata": {
      "needs_background": "light"
     },
     "output_type": "display_data"
    },
    {
     "data": {
      "image/png": "[encoded data removed]",
      "text/plain": [
       "<Figure size 432x288 with 1 Axes>"
      ]
     },
     "metadata": {
      "needs_background": "light"
     },
     "output_type": "display_data"
    },
    {
     "data": {
      "image/png": "[encoded data removed]",
      "text/plain": [
       "<Figure size 432x288 with 1 Axes>"
      ]
     },
     "metadata": {
      "needs_background": "light"
     },
     "output_type": "display_data"
    },
    {
     "data": {
      "image/png": "[encoded data removed]",
      "text/plain": [
       "<Figure size 432x288 with 1 Axes>"
      ]
     },
     "metadata": {
      "needs_background": "light"
     },
     "output_type": "display_data"
    },
    {
     "data": {
      "image/png": "[encoded data removed]",
      "text/plain": [
       "<Figure size 432x288 with 1 Axes>"
      ]
     },
     "metadata": {
      "needs_background": "light"
     },
     "output_type": "display_data"
    },
    {
     "data": {
      "image/png": "[encoded data removed]",
      "text/plain": [
       "<Figure size 432x288 with 1 Axes>"
      ]
     },
     "metadata": {
      "needs_background": "light"
     },
     "output_type": "display_data"
    },
    {
     "data": {
      "image/png": "[encoded data removed]",
      "text/plain": [
       "<Figure size 432x288 with 1 Axes>"
      ]
     },
     "metadata": {
      "needs_background": "light"
     },
     "output_type": "display_data"
    },
    {
     "data": {
      "image/png": "[encoded data removed]",
      "text/plain": [
       "<Figure size 432x288 with 1 Axes>"
      ]
     },
     "metadata": {
      "needs_background": "light"
     },
     "output_type": "display_data"
    }
   ],
   "source": [
    "# Histograms for continuous features\n",
    "for col in continuous_features:\n",
    "    plt.hist(df[col], bins=5)\n",
    "    plt.xlabel(col)\n",
    "    plt.ylabel('count')\n",
    "    plt.show()"
   ]
  },
  {
   "cell_type": "markdown",
   "id": "fc958779",
   "metadata": {},
   "source": [
    "## Handling Missing Values"
   ]
  },
  {
   "cell_type": "code",
   "execution_count": 15,
   "id": "d1df6b42",
   "metadata": {},
   "outputs": [],
   "source": [
    "# Replacing NaN with Orgnization (Org) in Creater Name column\n",
    "df_copy['Creator Gender'] = df_copy['Creator Gender'].replace(np.nan, 'Org')"
   ]
  },
  {
   "cell_type": "code",
   "execution_count": 16,
   "id": "41de321c",
   "metadata": {},
   "outputs": [],
   "source": [
    "# Dropping instances with null values\n",
    "df_copy = df_copy.dropna(how='any',axis=0)"
   ]
  },
  {
   "cell_type": "code",
   "execution_count": 17,
   "id": "35ac6033",
   "metadata": {},
   "outputs": [
    {
     "data": {
      "text/plain": [
       "Video Views                              0\n",
       "Creator Gender                           0\n",
       "Total Channel Subcribers                 0\n",
       "Total Chanel Views                       0\n",
       "Duration in Seconds                      0\n",
       "No of Likes                              0\n",
       "Language of the Video                    0\n",
       "Video Description                        0\n",
       "Hashtags                                 0\n",
       "Maximum Quality of the Video             0\n",
       "No of Videos the Channel                 0\n",
       "Premiered or Not                         0\n",
       "Community Engagement (Posts per week)    0\n",
       "dtype: int64"
      ]
     },
     "execution_count": 17,
     "metadata": {},
     "output_type": "execute_result"
    }
   ],
   "source": [
    "df_copy.isnull().sum()"
   ]
  },
  {
   "cell_type": "markdown",
   "id": "3e4436e3",
   "metadata": {},
   "source": [
    "## Handling Outliers"
   ]
  },
  {
   "cell_type": "code",
   "execution_count": 18,
   "id": "725fadfd",
   "metadata": {},
   "outputs": [],
   "source": [
    "# def clamping_iqr(col):\n",
    "#     data = df_copy[col]\n",
    "#     q1 = np.percentile(data,25)\n",
    "#     q3 = np.percentile(data, 75)\n",
    "#     iqr = q3 - q1\n",
    "#     upperLimit = q3 + (1.5*iqr)\n",
    "#     lowerLimit = q1 - (1.5*iqr)\n",
    "#     for index, val in enumerate(data):\n",
    "#         if val > upperLimit:\n",
    "#             data.loc[index] = upperLimit\n",
    "#             continue\n",
    "#         if val < lowerLimit:\n",
    "#             data.loc[index] = lowerLimit\n",
    "#             continue\n",
    "    \n",
    "# clamping_iqr('Video Views')\n",
    "# clamping_iqr('Total Chanel Views')\n",
    "# clamping_iqr('Duration in Seconds')\n"
   ]
  },
  {
   "cell_type": "code",
   "execution_count": 19,
   "id": "5fa89fc0",
   "metadata": {},
   "outputs": [
    {
     "name": "stderr",
     "output_type": "stream",
     "text": [
      "/Users/sb/opt/anaconda3/lib/python3.9/site-packages/pandas/core/indexing.py:1732: SettingWithCopyWarning: \n",
      "A value is trying to be set on a copy of a slice from a DataFrame\n",
      "\n",
      "See the caveats in the documentation: https://pandas.pydata.org/pandas-docs/stable/user_guide/indexing.html#returning-a-view-versus-a-copy\n",
      "  self._setitem_single_block(indexer, value, name)\n"
     ]
    }
   ],
   "source": [
    "def clamping_top_5_percent(col):\n",
    "    data = df_copy[col]\n",
    "    bound = np.percentile(data, 95)\n",
    "    for index, val in enumerate(data):\n",
    "        if val > bound:\n",
    "            data.loc[index] = bound\n",
    "            continue\n",
    "            \n",
    "clamping_top_5_percent('Total Channel Subcribers')\n",
    "clamping_top_5_percent('No of Videos the Channel')\n",
    "clamping_top_5_percent('Hashtags')\n",
    "clamping_top_5_percent('Community Engagement (Posts per week)')\n",
    "clamping_top_5_percent('No of Likes')"
   ]
  },
  {
   "cell_type": "markdown",
   "id": "da1fbe90",
   "metadata": {},
   "source": [
    "## Normalizing Data"
   ]
  },
  {
   "cell_type": "code",
   "execution_count": 20,
   "id": "2808f822",
   "metadata": {},
   "outputs": [],
   "source": [
    "from sklearn.preprocessing import MinMaxScaler"
   ]
  },
  {
   "cell_type": "code",
   "execution_count": 21,
   "id": "d3d5c027",
   "metadata": {},
   "outputs": [
    {
     "name": "stdout",
     "output_type": "stream",
     "text": [
      "<class 'pandas.core.frame.DataFrame'>\n",
      "Int64Index: 883 entries, 0 to 904\n",
      "Data columns (total 13 columns):\n",
      " #   Column                                 Non-Null Count  Dtype  \n",
      "---  ------                                 --------------  -----  \n",
      " 0   Video Views                            883 non-null    int64  \n",
      " 1   Creator Gender                         883 non-null    object \n",
      " 2   Total Channel Subcribers               883 non-null    float64\n",
      " 3   Total Chanel Views                     883 non-null    int64  \n",
      " 4   Duration in Seconds                    883 non-null    int64  \n",
      " 5   No of Likes                            883 non-null    Int64  \n",
      " 6   Language of the Video                  883 non-null    object \n",
      " 7   Video Description                      883 non-null    object \n",
      " 8   Hashtags                               883 non-null    int64  \n",
      " 9   Maximum Quality of the Video           883 non-null    int64  \n",
      " 10  No of Videos the Channel               883 non-null    float64\n",
      " 11  Premiered or Not                       883 non-null    object \n",
      " 12  Community Engagement (Posts per week)  883 non-null    int64  \n",
      "dtypes: Int64(1), float64(2), int64(6), object(4)\n",
      "memory usage: 129.7+ KB\n"
     ]
    }
   ],
   "source": [
    "df_copy.info()"
   ]
  },
  {
   "cell_type": "code",
   "execution_count": 22,
   "id": "886ccd3a",
   "metadata": {},
   "outputs": [],
   "source": [
    "continuous_features = ['Video Views', 'Total Channel Subcribers', 'Total Chanel Views', 'Duration in Seconds', \n",
    "                      'No of Likes', 'No of Videos the Channel', 'Hashtags', 'Community Engagement (Posts per week)']\n",
    "\n",
    "categorical_features = ['Creator Gender', 'Language of the Video', 'Video Description',  \n",
    "                        'Maximum Quality of the Video','Premiered or Not']"
   ]
  },
  {
   "cell_type": "code",
   "execution_count": 23,
   "id": "6f0d4fb6",
   "metadata": {},
   "outputs": [],
   "source": [
    "data = df_copy.drop(['Creator Gender', 'Language of the Video', 'Video Description', \n",
    "                        'Maximum Quality of the Video','Premiered or Not','Duration in Seconds', 'Video Views'], axis='columns')\n",
    "scaler = MinMaxScaler()\n",
    "data = scaler.fit_transform(data)\n",
    "\n",
    "continuous_df = pd.DataFrame(data, columns=['Total Channel Subcribers',\n",
    "                                        'Total Chanel Views','No of Likes', 'Hashtags',\n",
    "                                        'No of Videos the Channel','Community Engagement (Posts per week)'])\n",
    "df_copy = df_copy.reset_index()\n",
    "\n",
    "df_dropped = df_copy.drop(['Total Channel Subcribers',\n",
    "                                        'Total Chanel Views','No of Likes', 'Hashtags',\n",
    "                                        'No of Videos the Channel','Community Engagement (Posts per week)'], axis=1)\n",
    "\n",
    "\n",
    "\n",
    "\n",
    "\n"
   ]
  },
  {
   "cell_type": "code",
   "execution_count": 24,
   "id": "6e8a3b0c",
   "metadata": {},
   "outputs": [
    {
     "data": {
      "text/html": [
       "<div>\n",
       "<style scoped>\n",
       "    .dataframe tbody tr th:only-of-type {\n",
       "        vertical-align: middle;\n",
       "    }\n",
       "\n",
       "    .dataframe tbody tr th {\n",
       "        vertical-align: top;\n",
       "    }\n",
       "\n",
       "    .dataframe thead th {\n",
       "        text-align: right;\n",
       "    }\n",
       "</style>\n",
       "<table border=\"1\" class=\"dataframe\">\n",
       "  <thead>\n",
       "    <tr style=\"text-align: right;\">\n",
       "      <th></th>\n",
       "      <th>Total Channel Subcribers</th>\n",
       "      <th>Total Chanel Views</th>\n",
       "      <th>No of Likes</th>\n",
       "      <th>Hashtags</th>\n",
       "      <th>No of Videos the Channel</th>\n",
       "      <th>Community Engagement (Posts per week)</th>\n",
       "    </tr>\n",
       "  </thead>\n",
       "  <tbody>\n",
       "    <tr>\n",
       "      <th>0</th>\n",
       "      <td>0.000132</td>\n",
       "      <td>0.000111</td>\n",
       "      <td>1.367347e-04</td>\n",
       "      <td>0.000000</td>\n",
       "      <td>0.001098</td>\n",
       "      <td>0.002933</td>\n",
       "    </tr>\n",
       "    <tr>\n",
       "      <th>1</th>\n",
       "      <td>0.003014</td>\n",
       "      <td>0.001923</td>\n",
       "      <td>1.591837e-04</td>\n",
       "      <td>0.035714</td>\n",
       "      <td>0.000595</td>\n",
       "      <td>0.005865</td>\n",
       "    </tr>\n",
       "    <tr>\n",
       "      <th>2</th>\n",
       "      <td>0.000001</td>\n",
       "      <td>0.000001</td>\n",
       "      <td>1.751020e-05</td>\n",
       "      <td>0.000000</td>\n",
       "      <td>0.000374</td>\n",
       "      <td>0.000000</td>\n",
       "    </tr>\n",
       "    <tr>\n",
       "      <th>3</th>\n",
       "      <td>0.005504</td>\n",
       "      <td>0.007573</td>\n",
       "      <td>3.836735e-06</td>\n",
       "      <td>0.000000</td>\n",
       "      <td>0.033093</td>\n",
       "      <td>0.041056</td>\n",
       "    </tr>\n",
       "    <tr>\n",
       "      <th>4</th>\n",
       "      <td>0.039646</td>\n",
       "      <td>0.050337</td>\n",
       "      <td>1.838776e-02</td>\n",
       "      <td>0.000000</td>\n",
       "      <td>0.006836</td>\n",
       "      <td>0.002933</td>\n",
       "    </tr>\n",
       "    <tr>\n",
       "      <th>...</th>\n",
       "      <td>...</td>\n",
       "      <td>...</td>\n",
       "      <td>...</td>\n",
       "      <td>...</td>\n",
       "      <td>...</td>\n",
       "      <td>...</td>\n",
       "    </tr>\n",
       "    <tr>\n",
       "      <th>878</th>\n",
       "      <td>0.001946</td>\n",
       "      <td>0.001816</td>\n",
       "      <td>4.795918e-06</td>\n",
       "      <td>0.000000</td>\n",
       "      <td>0.011960</td>\n",
       "      <td>0.002933</td>\n",
       "    </tr>\n",
       "    <tr>\n",
       "      <th>879</th>\n",
       "      <td>0.001946</td>\n",
       "      <td>0.001816</td>\n",
       "      <td>2.387755e-06</td>\n",
       "      <td>0.071429</td>\n",
       "      <td>0.011960</td>\n",
       "      <td>0.002933</td>\n",
       "    </tr>\n",
       "    <tr>\n",
       "      <th>880</th>\n",
       "      <td>0.000077</td>\n",
       "      <td>0.000071</td>\n",
       "      <td>2.040816e-08</td>\n",
       "      <td>0.107143</td>\n",
       "      <td>0.002421</td>\n",
       "      <td>0.002933</td>\n",
       "    </tr>\n",
       "    <tr>\n",
       "      <th>881</th>\n",
       "      <td>0.000077</td>\n",
       "      <td>0.000071</td>\n",
       "      <td>2.040816e-08</td>\n",
       "      <td>0.107143</td>\n",
       "      <td>0.002421</td>\n",
       "      <td>0.002933</td>\n",
       "    </tr>\n",
       "    <tr>\n",
       "      <th>882</th>\n",
       "      <td>0.013041</td>\n",
       "      <td>0.010190</td>\n",
       "      <td>1.551020e-04</td>\n",
       "      <td>0.107143</td>\n",
       "      <td>0.007174</td>\n",
       "      <td>0.000000</td>\n",
       "    </tr>\n",
       "  </tbody>\n",
       "</table>\n",
       "<p>883 rows × 6 columns</p>\n",
       "</div>"
      ],
      "text/plain": [
       "     Total Channel Subcribers  Total Chanel Views   No of Likes  Hashtags  \\\n",
       "0                    0.000132            0.000111  1.367347e-04  0.000000   \n",
       "1                    0.003014            0.001923  1.591837e-04  0.035714   \n",
       "2                    0.000001            0.000001  1.751020e-05  0.000000   \n",
       "3                    0.005504            0.007573  3.836735e-06  0.000000   \n",
       "4                    0.039646            0.050337  1.838776e-02  0.000000   \n",
       "..                        ...                 ...           ...       ...   \n",
       "878                  0.001946            0.001816  4.795918e-06  0.000000   \n",
       "879                  0.001946            0.001816  2.387755e-06  0.071429   \n",
       "880                  0.000077            0.000071  2.040816e-08  0.107143   \n",
       "881                  0.000077            0.000071  2.040816e-08  0.107143   \n",
       "882                  0.013041            0.010190  1.551020e-04  0.107143   \n",
       "\n",
       "     No of Videos the Channel  Community Engagement (Posts per week)  \n",
       "0                    0.001098                               0.002933  \n",
       "1                    0.000595                               0.005865  \n",
       "2                    0.000374                               0.000000  \n",
       "3                    0.033093                               0.041056  \n",
       "4                    0.006836                               0.002933  \n",
       "..                        ...                                    ...  \n",
       "878                  0.011960                               0.002933  \n",
       "879                  0.011960                               0.002933  \n",
       "880                  0.002421                               0.002933  \n",
       "881                  0.002421                               0.002933  \n",
       "882                  0.007174                               0.000000  \n",
       "\n",
       "[883 rows x 6 columns]"
      ]
     },
     "execution_count": 24,
     "metadata": {},
     "output_type": "execute_result"
    }
   ],
   "source": [
    "df_test = pd.concat([df_dropped, continuous_df], axis=1, ignore_index=True)\n",
    "\n",
    "continuous_df"
   ]
  },
  {
   "cell_type": "code",
   "execution_count": 25,
   "id": "e2eb2fc2",
   "metadata": {},
   "outputs": [
    {
     "data": {
      "text/html": [
       "<div>\n",
       "<style scoped>\n",
       "    .dataframe tbody tr th:only-of-type {\n",
       "        vertical-align: middle;\n",
       "    }\n",
       "\n",
       "    .dataframe tbody tr th {\n",
       "        vertical-align: top;\n",
       "    }\n",
       "\n",
       "    .dataframe thead th {\n",
       "        text-align: right;\n",
       "    }\n",
       "</style>\n",
       "<table border=\"1\" class=\"dataframe\">\n",
       "  <thead>\n",
       "    <tr style=\"text-align: right;\">\n",
       "      <th></th>\n",
       "      <th>index</th>\n",
       "      <th>Video Views</th>\n",
       "      <th>Creator Gender</th>\n",
       "      <th>Duration in Seconds</th>\n",
       "      <th>Language of the Video</th>\n",
       "      <th>Video Description</th>\n",
       "      <th>Maximum Quality of the Video</th>\n",
       "      <th>Premiered or Not</th>\n",
       "    </tr>\n",
       "  </thead>\n",
       "  <tbody>\n",
       "    <tr>\n",
       "      <th>0</th>\n",
       "      <td>0</td>\n",
       "      <td>146059</td>\n",
       "      <td>Male</td>\n",
       "      <td>1841</td>\n",
       "      <td>Kannada</td>\n",
       "      <td>Yes</td>\n",
       "      <td>1080</td>\n",
       "      <td>No</td>\n",
       "    </tr>\n",
       "    <tr>\n",
       "      <th>1</th>\n",
       "      <td>1</td>\n",
       "      <td>231969</td>\n",
       "      <td>Male</td>\n",
       "      <td>864</td>\n",
       "      <td>Telugu</td>\n",
       "      <td>Yes</td>\n",
       "      <td>1080</td>\n",
       "      <td>Yes</td>\n",
       "    </tr>\n",
       "    <tr>\n",
       "      <th>2</th>\n",
       "      <td>2</td>\n",
       "      <td>878</td>\n",
       "      <td>Female</td>\n",
       "      <td>492</td>\n",
       "      <td>Hindi</td>\n",
       "      <td>Yes</td>\n",
       "      <td>720</td>\n",
       "      <td>No</td>\n",
       "    </tr>\n",
       "    <tr>\n",
       "      <th>3</th>\n",
       "      <td>3</td>\n",
       "      <td>9965</td>\n",
       "      <td>Org</td>\n",
       "      <td>66</td>\n",
       "      <td>English</td>\n",
       "      <td>Yes</td>\n",
       "      <td>1080</td>\n",
       "      <td>No</td>\n",
       "    </tr>\n",
       "    <tr>\n",
       "      <th>4</th>\n",
       "      <td>4</td>\n",
       "      <td>39780561</td>\n",
       "      <td>Org</td>\n",
       "      <td>460</td>\n",
       "      <td>English</td>\n",
       "      <td>Yes</td>\n",
       "      <td>1080</td>\n",
       "      <td>No</td>\n",
       "    </tr>\n",
       "    <tr>\n",
       "      <th>...</th>\n",
       "      <td>...</td>\n",
       "      <td>...</td>\n",
       "      <td>...</td>\n",
       "      <td>...</td>\n",
       "      <td>...</td>\n",
       "      <td>...</td>\n",
       "      <td>...</td>\n",
       "      <td>...</td>\n",
       "    </tr>\n",
       "    <tr>\n",
       "      <th>878</th>\n",
       "      <td>900</td>\n",
       "      <td>6892</td>\n",
       "      <td>Org</td>\n",
       "      <td>827</td>\n",
       "      <td>Urdu + Arabic</td>\n",
       "      <td>Yes</td>\n",
       "      <td>1080</td>\n",
       "      <td>No</td>\n",
       "    </tr>\n",
       "    <tr>\n",
       "      <th>879</th>\n",
       "      <td>901</td>\n",
       "      <td>16554</td>\n",
       "      <td>Org</td>\n",
       "      <td>404</td>\n",
       "      <td>Nawayathi</td>\n",
       "      <td>Yes</td>\n",
       "      <td>720</td>\n",
       "      <td>No</td>\n",
       "    </tr>\n",
       "    <tr>\n",
       "      <th>880</th>\n",
       "      <td>902</td>\n",
       "      <td>32798</td>\n",
       "      <td>Org</td>\n",
       "      <td>384</td>\n",
       "      <td>Nawayathi</td>\n",
       "      <td>Yes</td>\n",
       "      <td>720</td>\n",
       "      <td>No</td>\n",
       "    </tr>\n",
       "    <tr>\n",
       "      <th>881</th>\n",
       "      <td>903</td>\n",
       "      <td>1503</td>\n",
       "      <td>Org</td>\n",
       "      <td>279</td>\n",
       "      <td>Urdu</td>\n",
       "      <td>Yes</td>\n",
       "      <td>1080</td>\n",
       "      <td>No</td>\n",
       "    </tr>\n",
       "    <tr>\n",
       "      <th>882</th>\n",
       "      <td>904</td>\n",
       "      <td>429966</td>\n",
       "      <td>Org</td>\n",
       "      <td>81</td>\n",
       "      <td>English</td>\n",
       "      <td>Yes</td>\n",
       "      <td>1080</td>\n",
       "      <td>No</td>\n",
       "    </tr>\n",
       "  </tbody>\n",
       "</table>\n",
       "<p>883 rows × 8 columns</p>\n",
       "</div>"
      ],
      "text/plain": [
       "     index  Video Views Creator Gender  Duration in Seconds  \\\n",
       "0        0       146059           Male                 1841   \n",
       "1        1       231969           Male                  864   \n",
       "2        2          878         Female                  492   \n",
       "3        3         9965            Org                   66   \n",
       "4        4     39780561            Org                  460   \n",
       "..     ...          ...            ...                  ...   \n",
       "878    900         6892            Org                  827   \n",
       "879    901        16554            Org                  404   \n",
       "880    902        32798            Org                  384   \n",
       "881    903         1503            Org                  279   \n",
       "882    904       429966            Org                   81   \n",
       "\n",
       "    Language of the Video Video Description  Maximum Quality of the Video  \\\n",
       "0                 Kannada               Yes                          1080   \n",
       "1                  Telugu               Yes                          1080   \n",
       "2                   Hindi               Yes                           720   \n",
       "3                 English               Yes                          1080   \n",
       "4                 English               Yes                          1080   \n",
       "..                    ...               ...                           ...   \n",
       "878         Urdu + Arabic               Yes                          1080   \n",
       "879             Nawayathi               Yes                           720   \n",
       "880             Nawayathi               Yes                           720   \n",
       "881                  Urdu               Yes                          1080   \n",
       "882               English               Yes                          1080   \n",
       "\n",
       "    Premiered or Not  \n",
       "0                 No  \n",
       "1                Yes  \n",
       "2                 No  \n",
       "3                 No  \n",
       "4                 No  \n",
       "..               ...  \n",
       "878               No  \n",
       "879               No  \n",
       "880               No  \n",
       "881               No  \n",
       "882               No  \n",
       "\n",
       "[883 rows x 8 columns]"
      ]
     },
     "execution_count": 25,
     "metadata": {},
     "output_type": "execute_result"
    }
   ],
   "source": [
    "df_dropped\n"
   ]
  },
  {
   "cell_type": "code",
   "execution_count": 26,
   "id": "4a2bafac",
   "metadata": {},
   "outputs": [],
   "source": [
    "df_copy = pd.concat([df_dropped, continuous_df], axis=1)\n",
    "df_copy = df_copy.drop([\"index\"], axis=1)"
   ]
  },
  {
   "cell_type": "markdown",
   "id": "2431a8b0",
   "metadata": {},
   "source": [
    "## Transformations"
   ]
  },
  {
   "cell_type": "code",
   "execution_count": 27,
   "id": "eb50cb20",
   "metadata": {},
   "outputs": [
    {
     "name": "stdout",
     "output_type": "stream",
     "text": [
      "880.12 445.06\n"
     ]
    }
   ],
   "source": [
    "low = np.percentile(df_copy['Duration in Seconds'],33)\n",
    "high = np.percentile(df_copy['Duration in Seconds'],66)\n",
    "\n",
    "print(high, low)\n",
    "# df_copy['Duration in Seconds'] = df_copy['Duration in Seconds'].astype('str')\n",
    "data = df_copy['Duration in Seconds']\n",
    "\n",
    "values = []\n",
    "\n",
    "for index, val in enumerate(data):\n",
    "    if val < low:\n",
    "        values.append('short')\n",
    "    elif  low <= val <= high :\n",
    "        values.append('medium')\n",
    "    else:\n",
    "        values.append('long')"
   ]
  },
  {
   "cell_type": "code",
   "execution_count": 28,
   "id": "d4ff764a",
   "metadata": {},
   "outputs": [],
   "source": [
    "df_copy.insert(5, \"Duration\", values)\n"
   ]
  },
  {
   "cell_type": "code",
   "execution_count": 29,
   "id": "bedb0d62",
   "metadata": {},
   "outputs": [],
   "source": [
    "data = df_copy[\"Maximum Quality of the Video\"]\n",
    "\n",
    "values = []\n",
    "\n",
    "for index, val in enumerate(data):\n",
    "    if val == 240 or val == 480 or val == 360:\n",
    "        values.append(\"Low\")\n",
    "    elif val == 720 or val == 1080:\n",
    "        values.append(\"Medium\")\n",
    "    else:\n",
    "        values.append(\"High\")\n",
    "    \n",
    "df_copy.insert(5, \"Video Quality\", values)"
   ]
  },
  {
   "cell_type": "code",
   "execution_count": 30,
   "id": "25e3ef29",
   "metadata": {},
   "outputs": [],
   "source": [
    "df_copy = df_copy.drop([\"Duration in Seconds\", \"Maximum Quality of the Video\"], axis=1)"
   ]
  },
  {
   "cell_type": "markdown",
   "id": "732dbabb",
   "metadata": {},
   "source": [
    "## Updated Dataset"
   ]
  },
  {
   "cell_type": "code",
   "execution_count": 31,
   "id": "967ac0af",
   "metadata": {},
   "outputs": [],
   "source": [
    "df_copy.to_csv('Final_Dataset.csv')"
   ]
  }
 ],
 "metadata": {
  "kernelspec": {
   "display_name": "Python 3 (ipykernel)",
   "language": "python",
   "name": "python3"
  },
  "language_info": {
   "codemirror_mode": {
    "name": "ipython",
    "version": 3
   },
   "file_extension": ".py",
   "mimetype": "text/x-python",
   "name": "python",
   "nbconvert_exporter": "python",
   "pygments_lexer": "ipython3",
   "version": "3.9.7"
  }
 },
 "nbformat": 4,
 "nbformat_minor": 5
}
