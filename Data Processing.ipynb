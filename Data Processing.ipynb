{
 "cells": [
  {
   "cell_type": "code",
   "execution_count": 1,
   "id": "a17806f8",
   "metadata": {},
   "outputs": [],
   "source": [
    "import pandas as pd\n",
    "import numpy as np\n",
    "import matplotlib.pyplot as plt\n",
    "\n",
    "df = pd.read_csv('data.csv')\n",
    "\n",
    "# df.info()"
   ]
  },
  {
   "cell_type": "code",
   "execution_count": 2,
   "id": "1438dcfd",
   "metadata": {},
   "outputs": [],
   "source": [
    "df_copy = df.copy()\n",
    "df_copy = df.drop(['Video Link','Channel URL','Date of Video Upload','Date of the Last Comment',\n",
    "                   'No of Playlist','Subtitle','Creator Name','No of Comments','Duration of Video','Intern Who Collected the Data'], axis=1)"
   ]
  },
  {
   "cell_type": "markdown",
   "id": "fc958779",
   "metadata": {},
   "source": [
    "## Handling Missing Values"
   ]
  },
  {
   "cell_type": "code",
   "execution_count": 3,
   "id": "f83b7a37",
   "metadata": {},
   "outputs": [
    {
     "data": {
      "text/plain": [
       "Video Views                                0\n",
       "Video Title                                0\n",
       "Creator Gender                           314\n",
       "Total Channel Subcribers                   0\n",
       "Total Chanel Views                         0\n",
       "Duration in Seconds                        0\n",
       "No of Likes                                1\n",
       "Language of the Video                     21\n",
       "Video Description                          0\n",
       "Hashtags                                   0\n",
       "Maximum Quality of the Video               0\n",
       "No of Videos the Channel                   0\n",
       "Premiered or Not                           0\n",
       "Community Engagement (Posts per week)      0\n",
       "dtype: int64"
      ]
     },
     "execution_count": 3,
     "metadata": {},
     "output_type": "execute_result"
    }
   ],
   "source": [
    "df_copy.isnull().sum()"
   ]
  },
  {
   "cell_type": "code",
   "execution_count": 4,
   "id": "d1df6b42",
   "metadata": {},
   "outputs": [],
   "source": [
    "# Replacing NaN with Orgnization (Org) in Creater Name column\n",
    "df_copy['Creator Gender'] = df_copy['Creator Gender'].replace(np.nan, 'Org')"
   ]
  },
  {
   "cell_type": "code",
   "execution_count": 5,
   "id": "464dccc6",
   "metadata": {},
   "outputs": [
    {
     "data": {
      "text/html": [
       "<div>\n",
       "<style scoped>\n",
       "    .dataframe tbody tr th:only-of-type {\n",
       "        vertical-align: middle;\n",
       "    }\n",
       "\n",
       "    .dataframe tbody tr th {\n",
       "        vertical-align: top;\n",
       "    }\n",
       "\n",
       "    .dataframe thead th {\n",
       "        text-align: right;\n",
       "    }\n",
       "</style>\n",
       "<table border=\"1\" class=\"dataframe\">\n",
       "  <thead>\n",
       "    <tr style=\"text-align: right;\">\n",
       "      <th></th>\n",
       "      <th>Video Views</th>\n",
       "      <th>Video Title</th>\n",
       "      <th>Creator Gender</th>\n",
       "      <th>Total Channel Subcribers</th>\n",
       "      <th>Total Chanel Views</th>\n",
       "      <th>Duration in Seconds</th>\n",
       "      <th>No of Likes</th>\n",
       "      <th>Language of the Video</th>\n",
       "      <th>Video Description</th>\n",
       "      <th>Hashtags</th>\n",
       "      <th>Maximum Quality of the Video</th>\n",
       "      <th>No of Videos the Channel</th>\n",
       "      <th>Premiered or Not</th>\n",
       "      <th>Community Engagement (Posts per week)</th>\n",
       "    </tr>\n",
       "  </thead>\n",
       "  <tbody>\n",
       "    <tr>\n",
       "      <th>0</th>\n",
       "      <td>146,059</td>\n",
       "      <td>Samse - Didupe Off-road Royal Enfield Himalayan</td>\n",
       "      <td>Male</td>\n",
       "      <td>40200</td>\n",
       "      <td>7964284</td>\n",
       "      <td>1,841.00</td>\n",
       "      <td>6700.0</td>\n",
       "      <td>Kannada</td>\n",
       "      <td>Yes</td>\n",
       "      <td>0</td>\n",
       "      <td>1080</td>\n",
       "      <td>462</td>\n",
       "      <td>No</td>\n",
       "      <td>1</td>\n",
       "    </tr>\n",
       "    <tr>\n",
       "      <th>1</th>\n",
       "      <td>231,969</td>\n",
       "      <td>Bhoom Baddhal Web Series</td>\n",
       "      <td>Male</td>\n",
       "      <td>920000</td>\n",
       "      <td>137535681</td>\n",
       "      <td>864</td>\n",
       "      <td>7800.0</td>\n",
       "      <td>Telugu</td>\n",
       "      <td>Yes</td>\n",
       "      <td>1</td>\n",
       "      <td>1080</td>\n",
       "      <td>251</td>\n",
       "      <td>Yes</td>\n",
       "      <td>2</td>\n",
       "    </tr>\n",
       "    <tr>\n",
       "      <th>2</th>\n",
       "      <td>878</td>\n",
       "      <td>Customer Psychology, Four Views Of Consumer De...</td>\n",
       "      <td>Female</td>\n",
       "      <td>458</td>\n",
       "      <td>72945</td>\n",
       "      <td>492</td>\n",
       "      <td>858.0</td>\n",
       "      <td>Hindi</td>\n",
       "      <td>Yes</td>\n",
       "      <td>0</td>\n",
       "      <td>720</td>\n",
       "      <td>158</td>\n",
       "      <td>No</td>\n",
       "      <td>0</td>\n",
       "    </tr>\n",
       "    <tr>\n",
       "      <th>3</th>\n",
       "      <td>9,965</td>\n",
       "      <td>Top countries with proven natural gas reserves</td>\n",
       "      <td>Org</td>\n",
       "      <td>1680000</td>\n",
       "      <td>541653219</td>\n",
       "      <td>66</td>\n",
       "      <td>188.0</td>\n",
       "      <td>English</td>\n",
       "      <td>Yes</td>\n",
       "      <td>0</td>\n",
       "      <td>1080</td>\n",
       "      <td>46509</td>\n",
       "      <td>No</td>\n",
       "      <td>20</td>\n",
       "    </tr>\n",
       "    <tr>\n",
       "      <th>4</th>\n",
       "      <td>39,780,561</td>\n",
       "      <td>73 Questions With Selena Gomez</td>\n",
       "      <td>Org</td>\n",
       "      <td>12100000</td>\n",
       "      <td>3600496171</td>\n",
       "      <td>460</td>\n",
       "      <td>901000.0</td>\n",
       "      <td>English</td>\n",
       "      <td>Yes</td>\n",
       "      <td>0</td>\n",
       "      <td>1080</td>\n",
       "      <td>2872</td>\n",
       "      <td>No</td>\n",
       "      <td>1</td>\n",
       "    </tr>\n",
       "  </tbody>\n",
       "</table>\n",
       "</div>"
      ],
      "text/plain": [
       "  Video Views                                        Video Title  \\\n",
       "0     146,059    Samse - Didupe Off-road Royal Enfield Himalayan   \n",
       "1     231,969                           Bhoom Baddhal Web Series   \n",
       "2         878  Customer Psychology, Four Views Of Consumer De...   \n",
       "3       9,965     Top countries with proven natural gas reserves   \n",
       "4  39,780,561                     73 Questions With Selena Gomez   \n",
       "\n",
       "  Creator Gender  Total Channel Subcribers Total Chanel Views  \\\n",
       "0           Male                     40200            7964284   \n",
       "1           Male                    920000          137535681   \n",
       "2         Female                       458              72945   \n",
       "3            Org                   1680000          541653219   \n",
       "4            Org                  12100000         3600496171   \n",
       "\n",
       "  Duration in Seconds  No of Likes Language of the Video Video Description  \\\n",
       "0            1,841.00       6700.0               Kannada               Yes   \n",
       "1                 864       7800.0                Telugu               Yes   \n",
       "2                 492        858.0                 Hindi               Yes   \n",
       "3                  66        188.0               English               Yes   \n",
       "4                 460     901000.0               English               Yes   \n",
       "\n",
       "   Hashtags  Maximum Quality of the Video  No of Videos the Channel  \\\n",
       "0         0                          1080                       462   \n",
       "1         1                          1080                       251   \n",
       "2         0                           720                       158   \n",
       "3         0                          1080                     46509   \n",
       "4         0                          1080                      2872   \n",
       "\n",
       "  Premiered or Not  Community Engagement (Posts per week)  \n",
       "0               No                                      1  \n",
       "1              Yes                                      2  \n",
       "2               No                                      0  \n",
       "3               No                                     20  \n",
       "4               No                                      1  "
      ]
     },
     "execution_count": 5,
     "metadata": {},
     "output_type": "execute_result"
    }
   ],
   "source": [
    "df_copy.head()"
   ]
  },
  {
   "cell_type": "code",
   "execution_count": 6,
   "id": "41de321c",
   "metadata": {},
   "outputs": [],
   "source": [
    "# Dropping instances with null values\n",
    "df_copy = df_copy.dropna(how='any',axis=0)"
   ]
  },
  {
   "cell_type": "code",
   "execution_count": 7,
   "id": "35ac6033",
   "metadata": {},
   "outputs": [
    {
     "data": {
      "text/plain": [
       "Video Views                              0\n",
       "Video Title                              0\n",
       "Creator Gender                           0\n",
       "Total Channel Subcribers                 0\n",
       "Total Chanel Views                       0\n",
       "Duration in Seconds                      0\n",
       "No of Likes                              0\n",
       "Language of the Video                    0\n",
       "Video Description                        0\n",
       "Hashtags                                 0\n",
       "Maximum Quality of the Video             0\n",
       "No of Videos the Channel                 0\n",
       "Premiered or Not                         0\n",
       "Community Engagement (Posts per week)    0\n",
       "dtype: int64"
      ]
     },
     "execution_count": 7,
     "metadata": {},
     "output_type": "execute_result"
    }
   ],
   "source": [
    "df_copy.isnull().sum()"
   ]
  },
  {
   "cell_type": "markdown",
   "id": "3e4436e3",
   "metadata": {},
   "source": [
    "## Handling Outliers"
   ]
  },
  {
   "cell_type": "code",
   "execution_count": 9,
   "id": "338f9f1e",
   "metadata": {},
   "outputs": [],
   "source": [
    "continuous_features = ['Video Views', 'Total Channel Subcribers', 'Total Chanel Views', 'Duration in Seconds', \n",
    "                      'No of Likes', 'No of Videos the Channel', 'Hashtags', 'Community Engagement (Posts per week)']\n",
    "\n",
    "categorical_features = ['Video Title', 'Creator Gender', 'Language of the Video', 'Video Description',  \n",
    "                        'Maximum Quality of the Video','Premiered or Not']"
   ]
  },
  {
   "cell_type": "code",
   "execution_count": 10,
   "id": "7fb18e2a",
   "metadata": {},
   "outputs": [],
   "source": [
    "df_copy = df_copy.replace(',','', regex=True)"
   ]
  },
  {
   "cell_type": "code",
   "execution_count": 11,
   "id": "89a380ff",
   "metadata": {},
   "outputs": [
    {
     "name": "stdout",
     "output_type": "stream",
     "text": [
      "<class 'pandas.core.frame.DataFrame'>\n",
      "Int64Index: 883 entries, 0 to 904\n",
      "Data columns (total 14 columns):\n",
      " #   Column                                 Non-Null Count  Dtype  \n",
      "---  ------                                 --------------  -----  \n",
      " 0   Video Views                            883 non-null    object \n",
      " 1   Video Title                            883 non-null    object \n",
      " 2   Creator Gender                         883 non-null    object \n",
      " 3   Total Channel Subcribers               883 non-null    int64  \n",
      " 4   Total Chanel Views                     883 non-null    object \n",
      " 5   Duration in Seconds                    883 non-null    object \n",
      " 6   No of Likes                            883 non-null    float64\n",
      " 7   Language of the Video                  883 non-null    object \n",
      " 8   Video Description                      883 non-null    object \n",
      " 9   Hashtags                               883 non-null    int64  \n",
      " 10  Maximum Quality of the Video           883 non-null    int64  \n",
      " 11  No of Videos the Channel               883 non-null    int64  \n",
      " 12  Premiered or Not                       883 non-null    object \n",
      " 13  Community Engagement (Posts per week)  883 non-null    int64  \n",
      "dtypes: float64(1), int64(5), object(8)\n",
      "memory usage: 103.5+ KB\n"
     ]
    }
   ],
   "source": [
    "df_copy.info()"
   ]
  },
  {
   "cell_type": "code",
   "execution_count": 12,
   "id": "725fadfd",
   "metadata": {},
   "outputs": [],
   "source": [
    "def clamping(col, i):\n",
    "    if i== 0 or i == 2 or i == 3:\n",
    "        data = df_copy[col]\n",
    "        data = pd.Series(data)\n",
    "        data = pd.to_numeric(data)    \n",
    "    else: \n",
    "        data = df_copy[col]\n",
    "    q1 = np.percentile(data,25)\n",
    "    q3 = np.percentile(data, 75)\n",
    "    iqr = q3 - q1\n",
    "    upperLimit = q3 + (1.5*iqr)\n",
    "    lowerLimit = q1 - (1.5*iqr)\n",
    "    for index, val in enumerate(data):\n",
    "        if val > upperLimit:\n",
    "            data.loc[index] = upperLimit\n",
    "            continue\n",
    "        if val < lowerLimit:\n",
    "            data.loc[index] = lowerLimit\n",
    "            continue\n",
    "    i = i + 1\n",
    "   \n",
    "         \n",
    "for col in continuous_features:\n",
    "    clamping(col, 0)"
   ]
  },
  {
   "cell_type": "markdown",
   "id": "da1fbe90",
   "metadata": {},
   "source": [
    "## Normalizing Data"
   ]
  },
  {
   "cell_type": "code",
   "execution_count": 13,
   "id": "2808f822",
   "metadata": {},
   "outputs": [],
   "source": [
    "from sklearn.preprocessing import MinMaxScaler"
   ]
  },
  {
   "cell_type": "code",
   "execution_count": 22,
   "id": "6f0d4fb6",
   "metadata": {},
   "outputs": [
    {
     "data": {
      "text/html": [
       "<div>\n",
       "<style scoped>\n",
       "    .dataframe tbody tr th:only-of-type {\n",
       "        vertical-align: middle;\n",
       "    }\n",
       "\n",
       "    .dataframe tbody tr th {\n",
       "        vertical-align: top;\n",
       "    }\n",
       "\n",
       "    .dataframe thead th {\n",
       "        text-align: right;\n",
       "    }\n",
       "</style>\n",
       "<table border=\"1\" class=\"dataframe\">\n",
       "  <thead>\n",
       "    <tr style=\"text-align: right;\">\n",
       "      <th></th>\n",
       "      <th>Total Channel Subcribers</th>\n",
       "      <th>Total Chanel Views</th>\n",
       "      <th>Duration in Seconds</th>\n",
       "      <th>No of Likes</th>\n",
       "      <th>Hashtags</th>\n",
       "      <th>No of Videos the Channel</th>\n",
       "      <th>Community Engagement (Posts per week)</th>\n",
       "    </tr>\n",
       "  </thead>\n",
       "  <tbody>\n",
       "    <tr>\n",
       "      <th>0</th>\n",
       "      <td>1.827508e-05</td>\n",
       "      <td>0.000132</td>\n",
       "      <td>0.029362</td>\n",
       "      <td>0.000137</td>\n",
       "      <td>0.000000</td>\n",
       "      <td>0.001098</td>\n",
       "      <td>0.002933</td>\n",
       "    </tr>\n",
       "    <tr>\n",
       "      <th>1</th>\n",
       "      <td>2.902594e-05</td>\n",
       "      <td>0.003014</td>\n",
       "      <td>0.013780</td>\n",
       "      <td>0.000159</td>\n",
       "      <td>0.035714</td>\n",
       "      <td>0.000595</td>\n",
       "      <td>0.005865</td>\n",
       "    </tr>\n",
       "    <tr>\n",
       "      <th>2</th>\n",
       "      <td>1.069955e-07</td>\n",
       "      <td>0.000001</td>\n",
       "      <td>0.007847</td>\n",
       "      <td>0.000018</td>\n",
       "      <td>0.000000</td>\n",
       "      <td>0.000374</td>\n",
       "      <td>0.000000</td>\n",
       "    </tr>\n",
       "    <tr>\n",
       "      <th>3</th>\n",
       "      <td>1.244151e-06</td>\n",
       "      <td>0.005504</td>\n",
       "      <td>0.001053</td>\n",
       "      <td>0.000004</td>\n",
       "      <td>0.000000</td>\n",
       "      <td>0.110734</td>\n",
       "      <td>0.058651</td>\n",
       "    </tr>\n",
       "    <tr>\n",
       "      <th>4</th>\n",
       "      <td>4.978174e-03</td>\n",
       "      <td>0.039646</td>\n",
       "      <td>0.007337</td>\n",
       "      <td>0.009277</td>\n",
       "      <td>0.000000</td>\n",
       "      <td>0.006836</td>\n",
       "      <td>0.002933</td>\n",
       "    </tr>\n",
       "  </tbody>\n",
       "</table>\n",
       "</div>"
      ],
      "text/plain": [
       "   Total Channel Subcribers  Total Chanel Views  Duration in Seconds  \\\n",
       "0              1.827508e-05            0.000132             0.029362   \n",
       "1              2.902594e-05            0.003014             0.013780   \n",
       "2              1.069955e-07            0.000001             0.007847   \n",
       "3              1.244151e-06            0.005504             0.001053   \n",
       "4              4.978174e-03            0.039646             0.007337   \n",
       "\n",
       "   No of Likes  Hashtags  No of Videos the Channel  \\\n",
       "0     0.000137  0.000000                  0.001098   \n",
       "1     0.000159  0.035714                  0.000595   \n",
       "2     0.000018  0.000000                  0.000374   \n",
       "3     0.000004  0.000000                  0.110734   \n",
       "4     0.009277  0.000000                  0.006836   \n",
       "\n",
       "   Community Engagement (Posts per week)  \n",
       "0                               0.002933  \n",
       "1                               0.005865  \n",
       "2                               0.000000  \n",
       "3                               0.058651  \n",
       "4                               0.002933  "
      ]
     },
     "execution_count": 22,
     "metadata": {},
     "output_type": "execute_result"
    }
   ],
   "source": [
    "data = df_copy.drop(['Video Title', 'Creator Gender', 'Language of the Video', 'Video Description', \n",
    "                        'Maximum Quality of the Video','Premiered or Not', 'Total Chanel Views'], axis='columns')\n",
    "scaler = MinMaxScaler()\n",
    "data = scaler.fit_transform(data)\n",
    "\n",
    "continuous_df = pd.DataFrame(data, columns=['Total Channel Subcribers',\n",
    "                                        'Total Chanel Views','Duration in Seconds','No of Likes', 'Hashtags',\n",
    "                                        'No of Videos the Channel','Community Engagement (Posts per week)'  ])\n",
    "continuous_df.head()"
   ]
  },
  {
   "cell_type": "markdown",
   "id": "e6a8177d",
   "metadata": {},
   "source": [
    "## Updated Dataset"
   ]
  },
  {
   "cell_type": "code",
   "execution_count": null,
   "id": "5f1fbe45",
   "metadata": {},
   "outputs": [],
   "source": []
  }
 ],
 "metadata": {
  "kernelspec": {
   "display_name": "Python 3 (ipykernel)",
   "language": "python",
   "name": "python3"
  },
  "language_info": {
   "codemirror_mode": {
    "name": "ipython",
    "version": 3
   },
   "file_extension": ".py",
   "mimetype": "text/x-python",
   "name": "python",
   "nbconvert_exporter": "python",
   "pygments_lexer": "ipython3",
   "version": "3.9.7"
  }
 },
 "nbformat": 4,
 "nbformat_minor": 5
}
