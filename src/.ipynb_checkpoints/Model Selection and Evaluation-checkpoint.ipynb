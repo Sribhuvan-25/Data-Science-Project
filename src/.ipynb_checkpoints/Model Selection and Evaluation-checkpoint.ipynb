{
 "cells": [
  {
   "cell_type": "code",
   "execution_count": 2,
   "id": "13ab67e5",
   "metadata": {},
   "outputs": [],
   "source": [
    "import pandas as pd\n",
    "import numpy as np\n",
    "import matplotlib.pyplot as plt\n",
    "warnings.filterwarnings('ignore')\n",
    "from sklearn.preprocessing import StandardScaler\n",
    "from sklearn.model_selection import train_test_split\n",
    "from sklearn.metrics import accuracy_score\n",
    "\n",
    "df = pd.read_csv('Final_Dataset.csv')"
   ]
  },
  {
   "cell_type": "code",
   "execution_count": 11,
   "id": "278a2917",
   "metadata": {},
   "outputs": [],
   "source": [
    "df.drop(df.columns[0], axis=1, inplace=True)"
   ]
  },
  {
   "cell_type": "code",
   "execution_count": 13,
   "id": "34821468",
   "metadata": {},
   "outputs": [
    {
     "data": {
      "text/html": [
       "<div>\n",
       "<style scoped>\n",
       "    .dataframe tbody tr th:only-of-type {\n",
       "        vertical-align: middle;\n",
       "    }\n",
       "\n",
       "    .dataframe tbody tr th {\n",
       "        vertical-align: top;\n",
       "    }\n",
       "\n",
       "    .dataframe thead th {\n",
       "        text-align: right;\n",
       "    }\n",
       "</style>\n",
       "<table border=\"1\" class=\"dataframe\">\n",
       "  <thead>\n",
       "    <tr style=\"text-align: right;\">\n",
       "      <th></th>\n",
       "      <th>Video Views</th>\n",
       "      <th>Creator Gender</th>\n",
       "      <th>Language of the Video</th>\n",
       "      <th>Video Description</th>\n",
       "      <th>Video Quality</th>\n",
       "      <th>Duration</th>\n",
       "      <th>Premiered or Not</th>\n",
       "      <th>Total Channel Subcribers</th>\n",
       "      <th>Total Chanel Views</th>\n",
       "      <th>No of Likes</th>\n",
       "      <th>Hashtags</th>\n",
       "      <th>No of Videos the Channel</th>\n",
       "      <th>Community Engagement (Posts per week)</th>\n",
       "    </tr>\n",
       "  </thead>\n",
       "  <tbody>\n",
       "    <tr>\n",
       "      <th>0</th>\n",
       "      <td>146059</td>\n",
       "      <td>Male</td>\n",
       "      <td>Kannada</td>\n",
       "      <td>Yes</td>\n",
       "      <td>Medium</td>\n",
       "      <td>long</td>\n",
       "      <td>No</td>\n",
       "      <td>0.000132</td>\n",
       "      <td>0.000111</td>\n",
       "      <td>0.000137</td>\n",
       "      <td>0.000000</td>\n",
       "      <td>0.001098</td>\n",
       "      <td>0.002933</td>\n",
       "    </tr>\n",
       "    <tr>\n",
       "      <th>1</th>\n",
       "      <td>231969</td>\n",
       "      <td>Male</td>\n",
       "      <td>Telugu</td>\n",
       "      <td>Yes</td>\n",
       "      <td>Medium</td>\n",
       "      <td>medium</td>\n",
       "      <td>Yes</td>\n",
       "      <td>0.003014</td>\n",
       "      <td>0.001923</td>\n",
       "      <td>0.000159</td>\n",
       "      <td>0.035714</td>\n",
       "      <td>0.000595</td>\n",
       "      <td>0.005865</td>\n",
       "    </tr>\n",
       "    <tr>\n",
       "      <th>2</th>\n",
       "      <td>878</td>\n",
       "      <td>Female</td>\n",
       "      <td>Hindi</td>\n",
       "      <td>Yes</td>\n",
       "      <td>Medium</td>\n",
       "      <td>medium</td>\n",
       "      <td>No</td>\n",
       "      <td>0.000001</td>\n",
       "      <td>0.000001</td>\n",
       "      <td>0.000018</td>\n",
       "      <td>0.000000</td>\n",
       "      <td>0.000374</td>\n",
       "      <td>0.000000</td>\n",
       "    </tr>\n",
       "    <tr>\n",
       "      <th>3</th>\n",
       "      <td>9965</td>\n",
       "      <td>Org</td>\n",
       "      <td>English</td>\n",
       "      <td>Yes</td>\n",
       "      <td>Medium</td>\n",
       "      <td>short</td>\n",
       "      <td>No</td>\n",
       "      <td>0.005504</td>\n",
       "      <td>0.007573</td>\n",
       "      <td>0.000004</td>\n",
       "      <td>0.000000</td>\n",
       "      <td>0.033093</td>\n",
       "      <td>0.041056</td>\n",
       "    </tr>\n",
       "    <tr>\n",
       "      <th>4</th>\n",
       "      <td>39780561</td>\n",
       "      <td>Org</td>\n",
       "      <td>English</td>\n",
       "      <td>Yes</td>\n",
       "      <td>Medium</td>\n",
       "      <td>medium</td>\n",
       "      <td>No</td>\n",
       "      <td>0.039646</td>\n",
       "      <td>0.050337</td>\n",
       "      <td>0.018388</td>\n",
       "      <td>0.000000</td>\n",
       "      <td>0.006836</td>\n",
       "      <td>0.002933</td>\n",
       "    </tr>\n",
       "  </tbody>\n",
       "</table>\n",
       "</div>"
      ],
      "text/plain": [
       "   Video Views Creator Gender Language of the Video Video Description  \\\n",
       "0       146059           Male               Kannada               Yes   \n",
       "1       231969           Male                Telugu               Yes   \n",
       "2          878         Female                 Hindi               Yes   \n",
       "3         9965            Org               English               Yes   \n",
       "4     39780561            Org               English               Yes   \n",
       "\n",
       "  Video Quality Duration Premiered or Not  Total Channel Subcribers  \\\n",
       "0        Medium     long               No                  0.000132   \n",
       "1        Medium   medium              Yes                  0.003014   \n",
       "2        Medium   medium               No                  0.000001   \n",
       "3        Medium    short               No                  0.005504   \n",
       "4        Medium   medium               No                  0.039646   \n",
       "\n",
       "   Total Chanel Views  No of Likes  Hashtags  No of Videos the Channel  \\\n",
       "0            0.000111     0.000137  0.000000                  0.001098   \n",
       "1            0.001923     0.000159  0.035714                  0.000595   \n",
       "2            0.000001     0.000018  0.000000                  0.000374   \n",
       "3            0.007573     0.000004  0.000000                  0.033093   \n",
       "4            0.050337     0.018388  0.000000                  0.006836   \n",
       "\n",
       "   Community Engagement (Posts per week)  \n",
       "0                               0.002933  \n",
       "1                               0.005865  \n",
       "2                               0.000000  \n",
       "3                               0.041056  \n",
       "4                               0.002933  "
      ]
     },
     "execution_count": 13,
     "metadata": {},
     "output_type": "execute_result"
    }
   ],
   "source": [
    "df.head()"
   ]
  },
  {
   "cell_type": "code",
   "execution_count": 34,
   "id": "4b72c16a",
   "metadata": {},
   "outputs": [],
   "source": [
    "df_copy = pd.get_dummies(df)"
   ]
  },
  {
   "cell_type": "code",
   "execution_count": null,
   "id": "8dc51c2d",
   "metadata": {},
   "outputs": [],
   "source": [
    "from sklearn.linear_model import LogisticRegression\n",
    "from sklearn.tree import DecisionTreeClassifier\n",
    "from sklearn.neural_network import MLPClassifier\n",
    "from sklearn.ensemble import RandomForestClassifier\n",
    "from sklearn.ensemble import GradientBoostingClassifier\n",
    "from sklearn.svm import SVC\n",
    "from sklearn.naive_bayes import GaussianNB\n",
    "from sklearn.neighbors import KNeighborsClassifier"
   ]
  },
  {
   "cell_type": "code",
   "execution_count": 18,
   "id": "fe849ac4",
   "metadata": {},
   "outputs": [],
   "source": [
    "from sklearn.model_selection import GridSearchCV, ShuffleSplit, cross_val_score\n",
    "from sklearn.metrics import classification_report"
   ]
  },
  {
   "cell_type": "markdown",
   "id": "57cc40e3",
   "metadata": {},
   "source": [
    "## Splitting the data to training and testing data"
   ]
  },
  {
   "cell_type": "code",
   "execution_count": 39,
   "id": "08ac154f",
   "metadata": {},
   "outputs": [],
   "source": [
    "from sklearn.model_selection import train_test_split\n",
    "from sklearn.metrics import accuracy_score\n",
    "from sklearn.metrics import classification_report"
   ]
  },
  {
   "cell_type": "code",
   "execution_count": 35,
   "id": "506be6b8",
   "metadata": {},
   "outputs": [],
   "source": [
    "x = df_copy.drop('Video Views', axis=1)\n",
    "y = df_copy['Video Views']"
   ]
  },
  {
   "cell_type": "code",
   "execution_count": 36,
   "id": "4dd25f63",
   "metadata": {},
   "outputs": [],
   "source": [
    "x_train,x_test,y_train,y_test = train_test_split(x,y,test_size=0.3)"
   ]
  },
  {
   "cell_type": "markdown",
   "id": "eef5ea48",
   "metadata": {},
   "source": [
    "## Training Models"
   ]
  },
  {
   "cell_type": "markdown",
   "id": "0461a3a7",
   "metadata": {},
   "source": [
    "### Linear Regression"
   ]
  },
  {
   "cell_type": "code",
   "execution_count": 47,
   "id": "d26a5e72",
   "metadata": {},
   "outputs": [],
   "source": [
    "from sklearn.linear_model import LogisticRegression"
   ]
  },
  {
   "cell_type": "code",
   "execution_count": 55,
   "id": "f80ef7b1",
   "metadata": {},
   "outputs": [],
   "source": [
    "lr = LogisticRegression()\n",
    "model = lr.fit(x_train,y_train)\n",
    "y_pred = model.predict(x_test)\n",
    "print(\"Accuracy Score: \",accuracy_score(y_pred,y_test))"
   ]
  },
  {
   "cell_type": "markdown",
   "id": "8f522c5f",
   "metadata": {},
   "source": [
    "### Decision Tree Classifier"
   ]
  },
  {
   "cell_type": "code",
   "execution_count": 50,
   "id": "150a2408",
   "metadata": {},
   "outputs": [],
   "source": [
    "from sklearn.tree import DecisionTreeClassifier"
   ]
  },
  {
   "cell_type": "code",
   "execution_count": 56,
   "id": "d6db0e02",
   "metadata": {},
   "outputs": [],
   "source": [
    "tree = DecisionTreeClassifier()\n",
    "tree_model = tree.fit(x_train,y_train)\n",
    "y_pred = tree_model.predict(x_test)\n",
    "print(\"Acuuracy Score: \",accuracy_score(y_test,y_pred))"
   ]
  },
  {
   "cell_type": "markdown",
   "id": "0c8929e7",
   "metadata": {},
   "source": [
    "### Gaussian NB"
   ]
  },
  {
   "cell_type": "code",
   "execution_count": 52,
   "id": "bc9a18c6",
   "metadata": {},
   "outputs": [],
   "source": [
    "from sklearn.naive_bayes import GaussianNB"
   ]
  },
  {
   "cell_type": "code",
   "execution_count": 57,
   "id": "5dd2a13e",
   "metadata": {},
   "outputs": [],
   "source": [
    "nb = GaussianNB()\n",
    "nb_model = nb.fit(x_train,y_train)\n",
    "nb_model.predict(x_test)\n",
    "y_pred = nb_model.predict(x_test)\n",
    "accuracy_score(y_test,y_pred)"
   ]
  }
 ],
 "metadata": {
  "kernelspec": {
   "display_name": "Python 3 (ipykernel)",
   "language": "python",
   "name": "python3"
  },
  "language_info": {
   "codemirror_mode": {
    "name": "ipython",
    "version": 3
   },
   "file_extension": ".py",
   "mimetype": "text/x-python",
   "name": "python",
   "nbconvert_exporter": "python",
   "pygments_lexer": "ipython3",
   "version": "3.9.7"
  }
 },
 "nbformat": 4,
 "nbformat_minor": 5
}
