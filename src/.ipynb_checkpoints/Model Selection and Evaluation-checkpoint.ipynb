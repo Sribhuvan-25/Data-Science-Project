{
 "cells": [
  {
   "cell_type": "code",
   "execution_count": 41,
   "id": "13ab67e5",
   "metadata": {},
   "outputs": [],
   "source": [
    "import pandas as pd\n",
    "import numpy as np\n",
    "import matplotlib.pyplot as plt\n",
    "import warnings\n",
    "warnings.filterwarnings('ignore')\n",
    "from sklearn.metrics import accuracy_score\n",
    "from sklearn.metrics import confusion_matrix,ConfusionMatrixDisplay\n",
    "\n",
    "df = pd.read_csv('Final_Dataset.csv')"
   ]
  },
  {
   "cell_type": "code",
   "execution_count": 42,
   "id": "278a2917",
   "metadata": {},
   "outputs": [],
   "source": [
    "df.drop(df.columns[0], axis=1, inplace=True)"
   ]
  },
  {
   "cell_type": "code",
   "execution_count": 43,
   "id": "34821468",
   "metadata": {},
   "outputs": [
    {
     "data": {
      "text/html": [
       "<div>\n",
       "<style scoped>\n",
       "    .dataframe tbody tr th:only-of-type {\n",
       "        vertical-align: middle;\n",
       "    }\n",
       "\n",
       "    .dataframe tbody tr th {\n",
       "        vertical-align: top;\n",
       "    }\n",
       "\n",
       "    .dataframe thead th {\n",
       "        text-align: right;\n",
       "    }\n",
       "</style>\n",
       "<table border=\"1\" class=\"dataframe\">\n",
       "  <thead>\n",
       "    <tr style=\"text-align: right;\">\n",
       "      <th></th>\n",
       "      <th>Video Views</th>\n",
       "      <th>Creator Gender</th>\n",
       "      <th>Language of the Video</th>\n",
       "      <th>Video Description</th>\n",
       "      <th>Video Quality</th>\n",
       "      <th>Duration</th>\n",
       "      <th>Premiered or Not</th>\n",
       "      <th>Total Channel Subcribers</th>\n",
       "      <th>Total Chanel Views</th>\n",
       "      <th>No of Likes</th>\n",
       "      <th>Hashtags</th>\n",
       "      <th>No of Videos the Channel</th>\n",
       "      <th>Community Engagement (Posts per week)</th>\n",
       "    </tr>\n",
       "  </thead>\n",
       "  <tbody>\n",
       "    <tr>\n",
       "      <th>0</th>\n",
       "      <td>146059</td>\n",
       "      <td>Male</td>\n",
       "      <td>Kannada</td>\n",
       "      <td>Yes</td>\n",
       "      <td>Medium</td>\n",
       "      <td>long</td>\n",
       "      <td>No</td>\n",
       "      <td>0.000132</td>\n",
       "      <td>0.000111</td>\n",
       "      <td>0.000137</td>\n",
       "      <td>0.000000</td>\n",
       "      <td>0.001098</td>\n",
       "      <td>0.002933</td>\n",
       "    </tr>\n",
       "    <tr>\n",
       "      <th>1</th>\n",
       "      <td>231969</td>\n",
       "      <td>Male</td>\n",
       "      <td>Telugu</td>\n",
       "      <td>Yes</td>\n",
       "      <td>Medium</td>\n",
       "      <td>medium</td>\n",
       "      <td>Yes</td>\n",
       "      <td>0.003014</td>\n",
       "      <td>0.001923</td>\n",
       "      <td>0.000159</td>\n",
       "      <td>0.035714</td>\n",
       "      <td>0.000595</td>\n",
       "      <td>0.005865</td>\n",
       "    </tr>\n",
       "    <tr>\n",
       "      <th>2</th>\n",
       "      <td>878</td>\n",
       "      <td>Female</td>\n",
       "      <td>Hindi</td>\n",
       "      <td>Yes</td>\n",
       "      <td>Medium</td>\n",
       "      <td>medium</td>\n",
       "      <td>No</td>\n",
       "      <td>0.000001</td>\n",
       "      <td>0.000001</td>\n",
       "      <td>0.000018</td>\n",
       "      <td>0.000000</td>\n",
       "      <td>0.000374</td>\n",
       "      <td>0.000000</td>\n",
       "    </tr>\n",
       "    <tr>\n",
       "      <th>3</th>\n",
       "      <td>9965</td>\n",
       "      <td>Org</td>\n",
       "      <td>English</td>\n",
       "      <td>Yes</td>\n",
       "      <td>Medium</td>\n",
       "      <td>short</td>\n",
       "      <td>No</td>\n",
       "      <td>0.005504</td>\n",
       "      <td>0.007573</td>\n",
       "      <td>0.000004</td>\n",
       "      <td>0.000000</td>\n",
       "      <td>0.033093</td>\n",
       "      <td>0.041056</td>\n",
       "    </tr>\n",
       "    <tr>\n",
       "      <th>4</th>\n",
       "      <td>39780561</td>\n",
       "      <td>Org</td>\n",
       "      <td>English</td>\n",
       "      <td>Yes</td>\n",
       "      <td>Medium</td>\n",
       "      <td>medium</td>\n",
       "      <td>No</td>\n",
       "      <td>0.039646</td>\n",
       "      <td>0.050337</td>\n",
       "      <td>0.018388</td>\n",
       "      <td>0.000000</td>\n",
       "      <td>0.006836</td>\n",
       "      <td>0.002933</td>\n",
       "    </tr>\n",
       "  </tbody>\n",
       "</table>\n",
       "</div>"
      ],
      "text/plain": [
       "   Video Views Creator Gender Language of the Video Video Description  \\\n",
       "0       146059           Male               Kannada               Yes   \n",
       "1       231969           Male                Telugu               Yes   \n",
       "2          878         Female                 Hindi               Yes   \n",
       "3         9965            Org               English               Yes   \n",
       "4     39780561            Org               English               Yes   \n",
       "\n",
       "  Video Quality Duration Premiered or Not  Total Channel Subcribers  \\\n",
       "0        Medium     long               No                  0.000132   \n",
       "1        Medium   medium              Yes                  0.003014   \n",
       "2        Medium   medium               No                  0.000001   \n",
       "3        Medium    short               No                  0.005504   \n",
       "4        Medium   medium               No                  0.039646   \n",
       "\n",
       "   Total Chanel Views  No of Likes  Hashtags  No of Videos the Channel  \\\n",
       "0            0.000111     0.000137  0.000000                  0.001098   \n",
       "1            0.001923     0.000159  0.035714                  0.000595   \n",
       "2            0.000001     0.000018  0.000000                  0.000374   \n",
       "3            0.007573     0.000004  0.000000                  0.033093   \n",
       "4            0.050337     0.018388  0.000000                  0.006836   \n",
       "\n",
       "   Community Engagement (Posts per week)  \n",
       "0                               0.002933  \n",
       "1                               0.005865  \n",
       "2                               0.000000  \n",
       "3                               0.041056  \n",
       "4                               0.002933  "
      ]
     },
     "execution_count": 43,
     "metadata": {},
     "output_type": "execute_result"
    }
   ],
   "source": [
    "df.head()"
   ]
  },
  {
   "cell_type": "markdown",
   "id": "de8158f1",
   "metadata": {},
   "source": [
    "## Transformation"
   ]
  },
  {
   "cell_type": "code",
   "execution_count": 44,
   "id": "8b1e6092",
   "metadata": {},
   "outputs": [],
   "source": [
    "# Converting Video View column, which is a continuoud feature to categorical feature\n",
    "\n",
    "data = df['Video Views']\n",
    "\n",
    "values = []\n",
    "\n",
    "for index, val in enumerate(data):\n",
    "    if val > 20000:\n",
    "        values.append(\"Popular\")\n",
    "    else:\n",
    "        values.append(\"Not Popular\")\n",
    "    \n",
    "df.insert(1, \"Popularity\", values)"
   ]
  },
  {
   "cell_type": "code",
   "execution_count": 45,
   "id": "df922a34",
   "metadata": {},
   "outputs": [],
   "source": [
    "df.drop('Video Views',axis=1,inplace=True)"
   ]
  },
  {
   "cell_type": "code",
   "execution_count": 46,
   "id": "d5a88475",
   "metadata": {},
   "outputs": [
    {
     "data": {
      "text/html": [
       "<div>\n",
       "<style scoped>\n",
       "    .dataframe tbody tr th:only-of-type {\n",
       "        vertical-align: middle;\n",
       "    }\n",
       "\n",
       "    .dataframe tbody tr th {\n",
       "        vertical-align: top;\n",
       "    }\n",
       "\n",
       "    .dataframe thead th {\n",
       "        text-align: right;\n",
       "    }\n",
       "</style>\n",
       "<table border=\"1\" class=\"dataframe\">\n",
       "  <thead>\n",
       "    <tr style=\"text-align: right;\">\n",
       "      <th></th>\n",
       "      <th>Popularity</th>\n",
       "      <th>Creator Gender</th>\n",
       "      <th>Language of the Video</th>\n",
       "      <th>Video Description</th>\n",
       "      <th>Video Quality</th>\n",
       "      <th>Duration</th>\n",
       "      <th>Premiered or Not</th>\n",
       "      <th>Total Channel Subcribers</th>\n",
       "      <th>Total Chanel Views</th>\n",
       "      <th>No of Likes</th>\n",
       "      <th>Hashtags</th>\n",
       "      <th>No of Videos the Channel</th>\n",
       "      <th>Community Engagement (Posts per week)</th>\n",
       "    </tr>\n",
       "  </thead>\n",
       "  <tbody>\n",
       "    <tr>\n",
       "      <th>0</th>\n",
       "      <td>Popular</td>\n",
       "      <td>Male</td>\n",
       "      <td>Kannada</td>\n",
       "      <td>Yes</td>\n",
       "      <td>Medium</td>\n",
       "      <td>long</td>\n",
       "      <td>No</td>\n",
       "      <td>0.000132</td>\n",
       "      <td>0.000111</td>\n",
       "      <td>0.000137</td>\n",
       "      <td>0.000000</td>\n",
       "      <td>0.001098</td>\n",
       "      <td>0.002933</td>\n",
       "    </tr>\n",
       "    <tr>\n",
       "      <th>1</th>\n",
       "      <td>Popular</td>\n",
       "      <td>Male</td>\n",
       "      <td>Telugu</td>\n",
       "      <td>Yes</td>\n",
       "      <td>Medium</td>\n",
       "      <td>medium</td>\n",
       "      <td>Yes</td>\n",
       "      <td>0.003014</td>\n",
       "      <td>0.001923</td>\n",
       "      <td>0.000159</td>\n",
       "      <td>0.035714</td>\n",
       "      <td>0.000595</td>\n",
       "      <td>0.005865</td>\n",
       "    </tr>\n",
       "    <tr>\n",
       "      <th>2</th>\n",
       "      <td>Not Popular</td>\n",
       "      <td>Female</td>\n",
       "      <td>Hindi</td>\n",
       "      <td>Yes</td>\n",
       "      <td>Medium</td>\n",
       "      <td>medium</td>\n",
       "      <td>No</td>\n",
       "      <td>0.000001</td>\n",
       "      <td>0.000001</td>\n",
       "      <td>0.000018</td>\n",
       "      <td>0.000000</td>\n",
       "      <td>0.000374</td>\n",
       "      <td>0.000000</td>\n",
       "    </tr>\n",
       "    <tr>\n",
       "      <th>3</th>\n",
       "      <td>Not Popular</td>\n",
       "      <td>Org</td>\n",
       "      <td>English</td>\n",
       "      <td>Yes</td>\n",
       "      <td>Medium</td>\n",
       "      <td>short</td>\n",
       "      <td>No</td>\n",
       "      <td>0.005504</td>\n",
       "      <td>0.007573</td>\n",
       "      <td>0.000004</td>\n",
       "      <td>0.000000</td>\n",
       "      <td>0.033093</td>\n",
       "      <td>0.041056</td>\n",
       "    </tr>\n",
       "    <tr>\n",
       "      <th>4</th>\n",
       "      <td>Popular</td>\n",
       "      <td>Org</td>\n",
       "      <td>English</td>\n",
       "      <td>Yes</td>\n",
       "      <td>Medium</td>\n",
       "      <td>medium</td>\n",
       "      <td>No</td>\n",
       "      <td>0.039646</td>\n",
       "      <td>0.050337</td>\n",
       "      <td>0.018388</td>\n",
       "      <td>0.000000</td>\n",
       "      <td>0.006836</td>\n",
       "      <td>0.002933</td>\n",
       "    </tr>\n",
       "  </tbody>\n",
       "</table>\n",
       "</div>"
      ],
      "text/plain": [
       "    Popularity Creator Gender Language of the Video Video Description  \\\n",
       "0      Popular           Male               Kannada               Yes   \n",
       "1      Popular           Male                Telugu               Yes   \n",
       "2  Not Popular         Female                 Hindi               Yes   \n",
       "3  Not Popular            Org               English               Yes   \n",
       "4      Popular            Org               English               Yes   \n",
       "\n",
       "  Video Quality Duration Premiered or Not  Total Channel Subcribers  \\\n",
       "0        Medium     long               No                  0.000132   \n",
       "1        Medium   medium              Yes                  0.003014   \n",
       "2        Medium   medium               No                  0.000001   \n",
       "3        Medium    short               No                  0.005504   \n",
       "4        Medium   medium               No                  0.039646   \n",
       "\n",
       "   Total Chanel Views  No of Likes  Hashtags  No of Videos the Channel  \\\n",
       "0            0.000111     0.000137  0.000000                  0.001098   \n",
       "1            0.001923     0.000159  0.035714                  0.000595   \n",
       "2            0.000001     0.000018  0.000000                  0.000374   \n",
       "3            0.007573     0.000004  0.000000                  0.033093   \n",
       "4            0.050337     0.018388  0.000000                  0.006836   \n",
       "\n",
       "   Community Engagement (Posts per week)  \n",
       "0                               0.002933  \n",
       "1                               0.005865  \n",
       "2                               0.000000  \n",
       "3                               0.041056  \n",
       "4                               0.002933  "
      ]
     },
     "execution_count": 46,
     "metadata": {},
     "output_type": "execute_result"
    }
   ],
   "source": [
    "df.head()"
   ]
  },
  {
   "cell_type": "code",
   "execution_count": 47,
   "id": "62968a41",
   "metadata": {},
   "outputs": [
    {
     "data": {
      "text/plain": [
       "Popular        813\n",
       "Not Popular     70\n",
       "Name: Popularity, dtype: int64"
      ]
     },
     "execution_count": 47,
     "metadata": {},
     "output_type": "execute_result"
    }
   ],
   "source": [
    "df['Popularity'].value_counts()"
   ]
  },
  {
   "cell_type": "markdown",
   "id": "264e9169",
   "metadata": {},
   "source": [
    "## One Hot Encoding"
   ]
  },
  {
   "cell_type": "code",
   "execution_count": 51,
   "id": "4b72c16a",
   "metadata": {},
   "outputs": [],
   "source": [
    "df_copy = pd.get_dummies(df.drop('Popularity',axis=1))"
   ]
  },
  {
   "cell_type": "code",
   "execution_count": 52,
   "id": "8ff3941c",
   "metadata": {},
   "outputs": [],
   "source": [
    "df_copy.insert(0, \"Popularity\", values)"
   ]
  },
  {
   "cell_type": "markdown",
   "id": "3c665d5f",
   "metadata": {},
   "source": [
    "## Balancing Popularity column using SMOTE "
   ]
  },
  {
   "cell_type": "code",
   "execution_count": 54,
   "id": "85055604",
   "metadata": {},
   "outputs": [
    {
     "data": {
      "text/html": [
       "<div>\n",
       "<style scoped>\n",
       "    .dataframe tbody tr th:only-of-type {\n",
       "        vertical-align: middle;\n",
       "    }\n",
       "\n",
       "    .dataframe tbody tr th {\n",
       "        vertical-align: top;\n",
       "    }\n",
       "\n",
       "    .dataframe thead th {\n",
       "        text-align: right;\n",
       "    }\n",
       "</style>\n",
       "<table border=\"1\" class=\"dataframe\">\n",
       "  <thead>\n",
       "    <tr style=\"text-align: right;\">\n",
       "      <th></th>\n",
       "      <th>Total Channel Subcribers</th>\n",
       "      <th>Total Chanel Views</th>\n",
       "      <th>No of Likes</th>\n",
       "      <th>Hashtags</th>\n",
       "      <th>No of Videos the Channel</th>\n",
       "      <th>Community Engagement (Posts per week)</th>\n",
       "      <th>Creator Gender_Female</th>\n",
       "      <th>Creator Gender_Male</th>\n",
       "      <th>Creator Gender_Org</th>\n",
       "      <th>Language of the Video_Arabic</th>\n",
       "      <th>...</th>\n",
       "      <th>Video Description_Yes</th>\n",
       "      <th>Video Quality_High</th>\n",
       "      <th>Video Quality_Low</th>\n",
       "      <th>Video Quality_Medium</th>\n",
       "      <th>Duration_long</th>\n",
       "      <th>Duration_medium</th>\n",
       "      <th>Duration_short</th>\n",
       "      <th>Premiered or Not_No</th>\n",
       "      <th>Premiered or Not_Yes</th>\n",
       "      <th>Popularity</th>\n",
       "    </tr>\n",
       "  </thead>\n",
       "  <tbody>\n",
       "    <tr>\n",
       "      <th>0</th>\n",
       "      <td>0.000132</td>\n",
       "      <td>0.000111</td>\n",
       "      <td>0.000137</td>\n",
       "      <td>0.000000</td>\n",
       "      <td>0.001098</td>\n",
       "      <td>0.002933</td>\n",
       "      <td>0</td>\n",
       "      <td>1</td>\n",
       "      <td>0</td>\n",
       "      <td>0</td>\n",
       "      <td>...</td>\n",
       "      <td>1</td>\n",
       "      <td>0</td>\n",
       "      <td>0</td>\n",
       "      <td>1</td>\n",
       "      <td>1</td>\n",
       "      <td>0</td>\n",
       "      <td>0</td>\n",
       "      <td>1</td>\n",
       "      <td>0</td>\n",
       "      <td>Popular</td>\n",
       "    </tr>\n",
       "    <tr>\n",
       "      <th>1</th>\n",
       "      <td>0.003014</td>\n",
       "      <td>0.001923</td>\n",
       "      <td>0.000159</td>\n",
       "      <td>0.035714</td>\n",
       "      <td>0.000595</td>\n",
       "      <td>0.005865</td>\n",
       "      <td>0</td>\n",
       "      <td>1</td>\n",
       "      <td>0</td>\n",
       "      <td>0</td>\n",
       "      <td>...</td>\n",
       "      <td>1</td>\n",
       "      <td>0</td>\n",
       "      <td>0</td>\n",
       "      <td>1</td>\n",
       "      <td>0</td>\n",
       "      <td>1</td>\n",
       "      <td>0</td>\n",
       "      <td>0</td>\n",
       "      <td>1</td>\n",
       "      <td>Popular</td>\n",
       "    </tr>\n",
       "    <tr>\n",
       "      <th>2</th>\n",
       "      <td>0.000001</td>\n",
       "      <td>0.000001</td>\n",
       "      <td>0.000018</td>\n",
       "      <td>0.000000</td>\n",
       "      <td>0.000374</td>\n",
       "      <td>0.000000</td>\n",
       "      <td>1</td>\n",
       "      <td>0</td>\n",
       "      <td>0</td>\n",
       "      <td>0</td>\n",
       "      <td>...</td>\n",
       "      <td>1</td>\n",
       "      <td>0</td>\n",
       "      <td>0</td>\n",
       "      <td>1</td>\n",
       "      <td>0</td>\n",
       "      <td>1</td>\n",
       "      <td>0</td>\n",
       "      <td>1</td>\n",
       "      <td>0</td>\n",
       "      <td>Not Popular</td>\n",
       "    </tr>\n",
       "    <tr>\n",
       "      <th>3</th>\n",
       "      <td>0.005504</td>\n",
       "      <td>0.007573</td>\n",
       "      <td>0.000004</td>\n",
       "      <td>0.000000</td>\n",
       "      <td>0.033093</td>\n",
       "      <td>0.041056</td>\n",
       "      <td>0</td>\n",
       "      <td>0</td>\n",
       "      <td>1</td>\n",
       "      <td>0</td>\n",
       "      <td>...</td>\n",
       "      <td>1</td>\n",
       "      <td>0</td>\n",
       "      <td>0</td>\n",
       "      <td>1</td>\n",
       "      <td>0</td>\n",
       "      <td>0</td>\n",
       "      <td>1</td>\n",
       "      <td>1</td>\n",
       "      <td>0</td>\n",
       "      <td>Not Popular</td>\n",
       "    </tr>\n",
       "    <tr>\n",
       "      <th>4</th>\n",
       "      <td>0.039646</td>\n",
       "      <td>0.050337</td>\n",
       "      <td>0.018388</td>\n",
       "      <td>0.000000</td>\n",
       "      <td>0.006836</td>\n",
       "      <td>0.002933</td>\n",
       "      <td>0</td>\n",
       "      <td>0</td>\n",
       "      <td>1</td>\n",
       "      <td>0</td>\n",
       "      <td>...</td>\n",
       "      <td>1</td>\n",
       "      <td>0</td>\n",
       "      <td>0</td>\n",
       "      <td>1</td>\n",
       "      <td>0</td>\n",
       "      <td>1</td>\n",
       "      <td>0</td>\n",
       "      <td>1</td>\n",
       "      <td>0</td>\n",
       "      <td>Popular</td>\n",
       "    </tr>\n",
       "  </tbody>\n",
       "</table>\n",
       "<p>5 rows × 39 columns</p>\n",
       "</div>"
      ],
      "text/plain": [
       "   Total Channel Subcribers  Total Chanel Views  No of Likes  Hashtags  \\\n",
       "0                  0.000132            0.000111     0.000137  0.000000   \n",
       "1                  0.003014            0.001923     0.000159  0.035714   \n",
       "2                  0.000001            0.000001     0.000018  0.000000   \n",
       "3                  0.005504            0.007573     0.000004  0.000000   \n",
       "4                  0.039646            0.050337     0.018388  0.000000   \n",
       "\n",
       "   No of Videos the Channel  Community Engagement (Posts per week)  \\\n",
       "0                  0.001098                               0.002933   \n",
       "1                  0.000595                               0.005865   \n",
       "2                  0.000374                               0.000000   \n",
       "3                  0.033093                               0.041056   \n",
       "4                  0.006836                               0.002933   \n",
       "\n",
       "   Creator Gender_Female  Creator Gender_Male  Creator Gender_Org  \\\n",
       "0                      0                    1                   0   \n",
       "1                      0                    1                   0   \n",
       "2                      1                    0                   0   \n",
       "3                      0                    0                   1   \n",
       "4                      0                    0                   1   \n",
       "\n",
       "   Language of the Video_Arabic  ...  Video Description_Yes  \\\n",
       "0                             0  ...                      1   \n",
       "1                             0  ...                      1   \n",
       "2                             0  ...                      1   \n",
       "3                             0  ...                      1   \n",
       "4                             0  ...                      1   \n",
       "\n",
       "   Video Quality_High  Video Quality_Low  Video Quality_Medium  Duration_long  \\\n",
       "0                   0                  0                     1              1   \n",
       "1                   0                  0                     1              0   \n",
       "2                   0                  0                     1              0   \n",
       "3                   0                  0                     1              0   \n",
       "4                   0                  0                     1              0   \n",
       "\n",
       "   Duration_medium  Duration_short  Premiered or Not_No  Premiered or Not_Yes  \\\n",
       "0                0               0                    1                     0   \n",
       "1                1               0                    0                     1   \n",
       "2                1               0                    1                     0   \n",
       "3                0               1                    1                     0   \n",
       "4                1               0                    1                     0   \n",
       "\n",
       "    Popularity  \n",
       "0      Popular  \n",
       "1      Popular  \n",
       "2  Not Popular  \n",
       "3  Not Popular  \n",
       "4      Popular  \n",
       "\n",
       "[5 rows x 39 columns]"
      ]
     },
     "execution_count": 54,
     "metadata": {},
     "output_type": "execute_result"
    }
   ],
   "source": [
    "from imblearn.over_sampling import SMOTE\n",
    "smote = SMOTE(random_state=50)\n",
    "x_smote,y_smote = smote.fit_resample(df_copy.drop('Popularity',axis='columns'),df_copy.Popularity)\n",
    "df_copy=pd.concat([x_smote,y_smote],axis=1)\n",
    "df_copy.head()"
   ]
  },
  {
   "cell_type": "code",
   "execution_count": 56,
   "id": "6b9ed5f5",
   "metadata": {},
   "outputs": [
    {
     "data": {
      "text/plain": [
       "Popular        813\n",
       "Not Popular    813\n",
       "Name: Popularity, dtype: int64"
      ]
     },
     "execution_count": 56,
     "metadata": {},
     "output_type": "execute_result"
    }
   ],
   "source": [
    "df_copy['Popularity'].value_counts()"
   ]
  },
  {
   "cell_type": "markdown",
   "id": "57cc40e3",
   "metadata": {},
   "source": [
    "## Splitting the data to training and testing data"
   ]
  },
  {
   "cell_type": "code",
   "execution_count": 57,
   "id": "0e1933c0",
   "metadata": {},
   "outputs": [],
   "source": [
    "from sklearn.model_selection import train_test_split"
   ]
  },
  {
   "cell_type": "code",
   "execution_count": 58,
   "id": "506be6b8",
   "metadata": {},
   "outputs": [],
   "source": [
    "x = df_copy.drop('Popularity', axis=1)\n",
    "y = df_copy['Popularity']"
   ]
  },
  {
   "cell_type": "code",
   "execution_count": 59,
   "id": "4dd25f63",
   "metadata": {},
   "outputs": [],
   "source": [
    "x_train,x_test,y_train,y_test = train_test_split(x,y,test_size=0.3)"
   ]
  },
  {
   "cell_type": "markdown",
   "id": "f6c531ff",
   "metadata": {},
   "source": [
    "## Model Building"
   ]
  },
  {
   "cell_type": "code",
   "execution_count": 60,
   "id": "83a716b9",
   "metadata": {},
   "outputs": [],
   "source": [
    "from sklearn.metrics import accuracy_score\n",
    "from sklearn.metrics import classification_report\n",
    "from sklearn.model_selection import GridSearchCV, ShuffleSplit, cross_val_score\n",
    "from sklearn.metrics import precision_score"
   ]
  },
  {
   "cell_type": "markdown",
   "id": "0461a3a7",
   "metadata": {},
   "source": [
    "### Similarity Based Learning : KNeighborsClassifier"
   ]
  },
  {
   "cell_type": "code",
   "execution_count": 61,
   "id": "4a297b9b",
   "metadata": {},
   "outputs": [],
   "source": [
    "from sklearn.neighbors import KNeighborsClassifier"
   ]
  },
  {
   "cell_type": "code",
   "execution_count": 70,
   "id": "973070e5",
   "metadata": {},
   "outputs": [
    {
     "name": "stdout",
     "output_type": "stream",
     "text": [
      "Training Accuracy:  0.9209138840070299\n"
     ]
    },
    {
     "data": {
      "image/png": "[encoded data removed]",
      "text/plain": [
       "<Figure size 432x288 with 2 Axes>"
      ]
     },
     "metadata": {
      "needs_background": "light"
     },
     "output_type": "display_data"
    },
    {
     "name": "stdout",
     "output_type": "stream",
     "text": [
      "Training Precision Score:  0.9546313799621928 \n",
      "\n"
     ]
    }
   ],
   "source": [
    "knn = KNeighborsClassifier()\n",
    "knn_model = knn.fit(x_train,y_train)\n",
    "\n",
    "# Training\n",
    "y_pred = knn_model.predict(x_train)\n",
    "print(\"Training Accuracy: \", accuracy_score(y_train,y_pred))\n",
    "cm = confusion_matrix(y_train, y_pred)\n",
    "disp = ConfusionMatrixDisplay(confusion_matrix=cm)\n",
    "disp.plot()\n",
    "plt.show()\n",
    "print(\"Training Precision Score: \", precision_score(y_train, y_pred, pos_label='Popular'), '\\n')"
   ]
  },
  {
   "cell_type": "code",
   "execution_count": 71,
   "id": "2c29b7a5",
   "metadata": {},
   "outputs": [
    {
     "name": "stdout",
     "output_type": "stream",
     "text": [
      "Testing Accuracy:  0.889344262295082\n"
     ]
    },
    {
     "data": {
      "image/png": "[encoded data removed]",
      "text/plain": [
       "<Figure size 432x288 with 2 Axes>"
      ]
     },
     "metadata": {
      "needs_background": "light"
     },
     "output_type": "display_data"
    },
    {
     "name": "stdout",
     "output_type": "stream",
     "text": [
      "Testing Precision Score:  0.908695652173913\n"
     ]
    }
   ],
   "source": [
    "# Testing\n",
    "y_pred = knn_model.predict(x_test)\n",
    "print(\"Testing Accuracy: \", accuracy_score(y_test,y_pred))\n",
    "cm = confusion_matrix(y_test, y_pred)\n",
    "disp = ConfusionMatrixDisplay(confusion_matrix=cm)\n",
    "disp.plot()\n",
    "plt.show()\n",
    "print(\"Testing Precision Score: \", precision_score(y_test, y_pred, pos_label=\"Popular\"))"
   ]
  },
  {
   "cell_type": "markdown",
   "id": "bef2729e",
   "metadata": {},
   "source": [
    "### Probability Based Learning : Naive Bayes Classifier"
   ]
  },
  {
   "cell_type": "code",
   "execution_count": 64,
   "id": "9e45fd19",
   "metadata": {},
   "outputs": [],
   "source": [
    "from sklearn.naive_bayes import GaussianNB"
   ]
  },
  {
   "cell_type": "code",
   "execution_count": 65,
   "id": "eccfe54b",
   "metadata": {},
   "outputs": [
    {
     "name": "stdout",
     "output_type": "stream",
     "text": [
      "Training Accuracy:  0.6942003514938488\n"
     ]
    },
    {
     "data": {
      "image/png": "[encoded data removed]",
      "text/plain": [
       "<Figure size 432x288 with 2 Axes>"
      ]
     },
     "metadata": {
      "needs_background": "light"
     },
     "output_type": "display_data"
    },
    {
     "name": "stdout",
     "output_type": "stream",
     "text": [
      "Training Precision Score:  0.9372549019607843 \n",
      "\n"
     ]
    }
   ],
   "source": [
    "classifier = GaussianNB()\n",
    "model = classifier.fit(x_train,y_train)\n",
    "\n",
    "# Training\n",
    "y_pred = model.predict(x_train)\n",
    "print(\"Training Accuracy: \", accuracy_score(y_train,y_pred))\n",
    "cm = confusion_matrix(y_train, y_pred)\n",
    "disp = ConfusionMatrixDisplay(confusion_matrix=cm)\n",
    "disp.plot()\n",
    "plt.show()\n",
    "print(\"Training Precision Score: \", precision_score(y_train, y_pred, pos_label='Popular'), '\\n')\n",
    "# print(\"Classification report: \\n\",classification_report(y_train,y_pred),'\\n')\n",
    "\n"
   ]
  },
  {
   "cell_type": "code",
   "execution_count": 66,
   "id": "2aeef6f2",
   "metadata": {},
   "outputs": [
    {
     "name": "stdout",
     "output_type": "stream",
     "text": [
      "Testing Accuracy:  0.7192622950819673\n"
     ]
    },
    {
     "data": {
      "image/png": "[encoded data removed]",
      "text/plain": [
       "<Figure size 432x288 with 2 Axes>"
      ]
     },
     "metadata": {
      "needs_background": "light"
     },
     "output_type": "display_data"
    },
    {
     "name": "stdout",
     "output_type": "stream",
     "text": [
      "Testing Precision Score:  0.9007633587786259\n"
     ]
    }
   ],
   "source": [
    "# Testing\n",
    "y_pred = model.predict(x_test)\n",
    "print(\"Testing Accuracy: \", accuracy_score(y_test,y_pred))\n",
    "cm = confusion_matrix(y_test, y_pred)\n",
    "disp = ConfusionMatrixDisplay(confusion_matrix=cm)\n",
    "disp.plot()\n",
    "plt.show()\n",
    "print(\"Testing Precision Score: \", precision_score(y_test, y_pred, pos_label='Popular'))\n",
    "# print(\"Classification report: \\n\",classification_report(y_test,y_pred),'\\n')"
   ]
  },
  {
   "cell_type": "markdown",
   "id": "29dbf339",
   "metadata": {},
   "source": [
    "### Error Based Learning: Logistic Regression"
   ]
  },
  {
   "cell_type": "code",
   "execution_count": 67,
   "id": "d26a5e72",
   "metadata": {},
   "outputs": [],
   "source": [
    "from sklearn.linear_model import LogisticRegression"
   ]
  },
  {
   "cell_type": "code",
   "execution_count": 68,
   "id": "f80ef7b1",
   "metadata": {},
   "outputs": [
    {
     "name": "stdout",
     "output_type": "stream",
     "text": [
      "Training Accuracy:  0.812829525483304\n"
     ]
    },
    {
     "data": {
      "image/png": "[encoded data removed]",
      "text/plain": [
       "<Figure size 432x288 with 2 Axes>"
      ]
     },
     "metadata": {
      "needs_background": "light"
     },
     "output_type": "display_data"
    },
    {
     "name": "stdout",
     "output_type": "stream",
     "text": [
      "Training Precision Score:  0.7963576158940397 \n",
      "\n"
     ]
    }
   ],
   "source": [
    "lr = LogisticRegression()\n",
    "model = lr.fit(x_train,y_train)\n",
    "\n",
    "# Training\n",
    "y_pred = model.predict(x_train)\n",
    "print(\"Training Accuracy: \", accuracy_score(y_train,y_pred))\n",
    "cm = confusion_matrix(y_train, y_pred)\n",
    "disp = ConfusionMatrixDisplay(confusion_matrix=cm)\n",
    "disp.plot()\n",
    "plt.show()\n",
    "print(\"Training Precision Score: \", precision_score(y_train, y_pred, pos_label='Popular'), '\\n')\n",
    "# print(\"Classification report: \\n\",classification_report(y_train,y_pred),'\\n')"
   ]
  },
  {
   "cell_type": "code",
   "execution_count": 69,
   "id": "4d2144d5",
   "metadata": {},
   "outputs": [
    {
     "name": "stdout",
     "output_type": "stream",
     "text": [
      "Training Accuracy:  0.8114754098360656\n"
     ]
    },
    {
     "data": {
      "image/png": "[encoded data removed]",
      "text/plain": [
       "<Figure size 432x288 with 2 Axes>"
      ]
     },
     "metadata": {
      "needs_background": "light"
     },
     "output_type": "display_data"
    },
    {
     "name": "stdout",
     "output_type": "stream",
     "text": [
      "Testing Precision Score:  0.7952755905511811 \n",
      "\n"
     ]
    }
   ],
   "source": [
    "# Training\n",
    "y_pred = model.predict(x_test)\n",
    "print(\"Training Accuracy: \", accuracy_score(y_test,y_pred))\n",
    "cm = confusion_matrix(y_test, y_pred)\n",
    "disp = ConfusionMatrixDisplay(confusion_matrix=cm)\n",
    "disp.plot()\n",
    "plt.show()\n",
    "print(\"Testing Precision Score: \", precision_score(y_test, y_pred, pos_label='Popular'), '\\n')\n",
    "# print(\"Classification report: \\n\",classification_report(y_test,y_pred),'\\n')"
   ]
  }
 ],
 "metadata": {
  "kernelspec": {
   "display_name": "Python 3 (ipykernel)",
   "language": "python",
   "name": "python3"
  },
  "language_info": {
   "codemirror_mode": {
    "name": "ipython",
    "version": 3
   },
   "file_extension": ".py",
   "mimetype": "text/x-python",
   "name": "python",
   "nbconvert_exporter": "python",
   "pygments_lexer": "ipython3",
   "version": "3.9.7"
  }
 },
 "nbformat": 4,
 "nbformat_minor": 5
}
