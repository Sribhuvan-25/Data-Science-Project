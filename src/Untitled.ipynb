{
 "cells": [
  {
   "cell_type": "code",
   "execution_count": 7,
   "id": "2b04d26a",
   "metadata": {},
   "outputs": [],
   "source": [
    "import pandas as pd\n",
    "import numpy as np\n",
    "import matplotlib.pyplot as plt\n",
    "\n",
    "df = pd.read_csv('Final_Dataset.csv')"
   ]
  },
  {
   "cell_type": "code",
   "execution_count": 8,
   "id": "b97e5583",
   "metadata": {},
   "outputs": [],
   "source": [
    "df.drop(df.columns[0], axis=1, inplace = True)"
   ]
  },
  {
   "cell_type": "code",
   "execution_count": 10,
   "id": "9323d428",
   "metadata": {},
   "outputs": [],
   "source": [
    "df = pd.get_dummies(df)"
   ]
  },
  {
   "cell_type": "code",
   "execution_count": 11,
   "id": "7e1fa746",
   "metadata": {},
   "outputs": [
    {
     "data": {
      "text/plain": [
       "Index(['Video Views', 'Total Channel Subcribers', 'Total Chanel Views',\n",
       "       'No of Likes', 'Hashtags', 'No of Videos the Channel',\n",
       "       'Community Engagement (Posts per week)', 'Creator Gender_Female',\n",
       "       'Creator Gender_Male', 'Creator Gender_Org',\n",
       "       'Language of the Video_Arabic', 'Language of the Video_English',\n",
       "       'Language of the Video_English + Hindi', 'Language of the Video_Hindi',\n",
       "       'Language of the Video_Hindi/English', 'Language of the Video_Italian',\n",
       "       'Language of the Video_Japenese', 'Language of the Video_Kannada',\n",
       "       'Language of the Video_Konkani', 'Language of the Video_Malayalam',\n",
       "       'Language of the Video_Mongalian', 'Language of the Video_Nawayathi',\n",
       "       'Language of the Video_Punjabi', 'Language of the Video_Russian',\n",
       "       'Language of the Video_Sanskrit', 'Language of the Video_Tamil',\n",
       "       'Language of the Video_Telugu', 'Language of the Video_Urdu',\n",
       "       'Language of the Video_Urdu + Arabic', 'Video Description_No',\n",
       "       'Video Description_Yes', 'Video Quality_High', 'Video Quality_Low',\n",
       "       'Video Quality_Medium', 'Duration_long', 'Duration_medium',\n",
       "       'Duration_short', 'Premiered or Not_No', 'Premiered or Not_Yes'],\n",
       "      dtype='object')"
      ]
     },
     "execution_count": 11,
     "metadata": {},
     "output_type": "execute_result"
    }
   ],
   "source": [
    "df.columns"
   ]
  }
 ],
 "metadata": {
  "kernelspec": {
   "display_name": "Python 3 (ipykernel)",
   "language": "python",
   "name": "python3"
  },
  "language_info": {
   "codemirror_mode": {
    "name": "ipython",
    "version": 3
   },
   "file_extension": ".py",
   "mimetype": "text/x-python",
   "name": "python",
   "nbconvert_exporter": "python",
   "pygments_lexer": "ipython3",
   "version": "3.9.7"
  }
 },
 "nbformat": 4,
 "nbformat_minor": 5
}
